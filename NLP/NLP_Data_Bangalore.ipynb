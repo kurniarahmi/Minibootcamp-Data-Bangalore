{
  "nbformat": 4,
  "nbformat_minor": 0,
  "metadata": {
    "colab": {
      "name": "NLP_Data Bangalore",
      "provenance": [],
      "toc_visible": true
    },
    "kernelspec": {
      "name": "python3",
      "display_name": "Python 3"
    },
    "language_info": {
      "name": "python"
    }
  },
  "cells": [
    {
      "cell_type": "markdown",
      "metadata": {
        "id": "t04dRw0KFyjp"
      },
      "source": [
        "# Import Libraries"
      ]
    },
    {
      "cell_type": "code",
      "metadata": {
        "colab": {
          "base_uri": "https://localhost:8080/"
        },
        "id": "U9oUYBAYFbf5",
        "outputId": "0cd6b8a5-13e2-45f1-9696-ac4b88e87f14"
      },
      "source": [
        "!pip install -q PyPDF2  # PyPDF untuk membaca file pdf\n",
        "!pip -q install gradio  # Gradio ML untuk membuat interface\n",
        "!pip -q install -U spacy   # spaCy\n",
        "\n",
        "!python -m spacy download en_core_web_sm # Pretrained model dari spaCy\n",
        "!python -m spacy download en_core_web_md"
      ],
      "execution_count": 1,
      "outputs": [
        {
          "output_type": "stream",
          "name": "stdout",
          "text": [
            "\u001b[?25l\r\u001b[K     |████▎                           | 10 kB 21.7 MB/s eta 0:00:01\r\u001b[K     |████████▌                       | 20 kB 27.8 MB/s eta 0:00:01\r\u001b[K     |████████████▊                   | 30 kB 26.7 MB/s eta 0:00:01\r\u001b[K     |█████████████████               | 40 kB 20.0 MB/s eta 0:00:01\r\u001b[K     |█████████████████████▏          | 51 kB 7.7 MB/s eta 0:00:01\r\u001b[K     |█████████████████████████▍      | 61 kB 8.9 MB/s eta 0:00:01\r\u001b[K     |█████████████████████████████▋  | 71 kB 8.7 MB/s eta 0:00:01\r\u001b[K     |████████████████████████████████| 77 kB 4.4 MB/s \n",
            "\u001b[?25h  Building wheel for PyPDF2 (setup.py) ... \u001b[?25l\u001b[?25hdone\n",
            "\u001b[K     |████████████████████████████████| 3.4 MB 7.7 MB/s \n",
            "\u001b[K     |████████████████████████████████| 1.9 MB 55.4 MB/s \n",
            "\u001b[K     |████████████████████████████████| 206 kB 72.7 MB/s \n",
            "\u001b[K     |████████████████████████████████| 961 kB 47.9 MB/s \n",
            "\u001b[K     |████████████████████████████████| 63 kB 3.3 MB/s \n",
            "\u001b[K     |████████████████████████████████| 3.0 MB 25.4 MB/s \n",
            "\u001b[?25h  Building wheel for ffmpy (setup.py) ... \u001b[?25l\u001b[?25hdone\n",
            "  Building wheel for flask-cachebuster (setup.py) ... \u001b[?25l\u001b[?25hdone\n",
            "\u001b[K     |████████████████████████████████| 5.8 MB 4.6 MB/s \n",
            "\u001b[K     |████████████████████████████████| 42 kB 1.6 MB/s \n",
            "\u001b[K     |████████████████████████████████| 456 kB 72.6 MB/s \n",
            "\u001b[K     |████████████████████████████████| 10.1 MB 76 kB/s \n",
            "\u001b[K     |████████████████████████████████| 623 kB 59.7 MB/s \n",
            "\u001b[?25hCollecting en-core-web-sm==3.1.0\n",
            "  Downloading https://github.com/explosion/spacy-models/releases/download/en_core_web_sm-3.1.0/en_core_web_sm-3.1.0-py3-none-any.whl (13.6 MB)\n",
            "\u001b[K     |████████████████████████████████| 13.6 MB 74 kB/s \n",
            "\u001b[?25hRequirement already satisfied: spacy<3.2.0,>=3.1.0 in /usr/local/lib/python3.7/dist-packages (from en-core-web-sm==3.1.0) (3.1.2)\n",
            "Requirement already satisfied: srsly<3.0.0,>=2.4.1 in /usr/local/lib/python3.7/dist-packages (from spacy<3.2.0,>=3.1.0->en-core-web-sm==3.1.0) (2.4.1)\n",
            "Requirement already satisfied: murmurhash<1.1.0,>=0.28.0 in /usr/local/lib/python3.7/dist-packages (from spacy<3.2.0,>=3.1.0->en-core-web-sm==3.1.0) (1.0.5)\n",
            "Requirement already satisfied: pathy>=0.3.5 in /usr/local/lib/python3.7/dist-packages (from spacy<3.2.0,>=3.1.0->en-core-web-sm==3.1.0) (0.6.0)\n",
            "Requirement already satisfied: pydantic!=1.8,!=1.8.1,<1.9.0,>=1.7.4 in /usr/local/lib/python3.7/dist-packages (from spacy<3.2.0,>=3.1.0->en-core-web-sm==3.1.0) (1.8.2)\n",
            "Requirement already satisfied: typing-extensions<4.0.0.0,>=3.7.4 in /usr/local/lib/python3.7/dist-packages (from spacy<3.2.0,>=3.1.0->en-core-web-sm==3.1.0) (3.7.4.3)\n",
            "Requirement already satisfied: requests<3.0.0,>=2.13.0 in /usr/local/lib/python3.7/dist-packages (from spacy<3.2.0,>=3.1.0->en-core-web-sm==3.1.0) (2.23.0)\n",
            "Requirement already satisfied: wasabi<1.1.0,>=0.8.1 in /usr/local/lib/python3.7/dist-packages (from spacy<3.2.0,>=3.1.0->en-core-web-sm==3.1.0) (0.8.2)\n",
            "Requirement already satisfied: numpy>=1.15.0 in /usr/local/lib/python3.7/dist-packages (from spacy<3.2.0,>=3.1.0->en-core-web-sm==3.1.0) (1.19.5)\n",
            "Requirement already satisfied: thinc<8.1.0,>=8.0.8 in /usr/local/lib/python3.7/dist-packages (from spacy<3.2.0,>=3.1.0->en-core-web-sm==3.1.0) (8.0.9)\n",
            "Requirement already satisfied: preshed<3.1.0,>=3.0.2 in /usr/local/lib/python3.7/dist-packages (from spacy<3.2.0,>=3.1.0->en-core-web-sm==3.1.0) (3.0.5)\n",
            "Requirement already satisfied: spacy-legacy<3.1.0,>=3.0.7 in /usr/local/lib/python3.7/dist-packages (from spacy<3.2.0,>=3.1.0->en-core-web-sm==3.1.0) (3.0.8)\n",
            "Requirement already satisfied: jinja2 in /usr/local/lib/python3.7/dist-packages (from spacy<3.2.0,>=3.1.0->en-core-web-sm==3.1.0) (2.11.3)\n",
            "Requirement already satisfied: setuptools in /usr/local/lib/python3.7/dist-packages (from spacy<3.2.0,>=3.1.0->en-core-web-sm==3.1.0) (57.4.0)\n",
            "Requirement already satisfied: cymem<2.1.0,>=2.0.2 in /usr/local/lib/python3.7/dist-packages (from spacy<3.2.0,>=3.1.0->en-core-web-sm==3.1.0) (2.0.5)\n",
            "Requirement already satisfied: packaging>=20.0 in /usr/local/lib/python3.7/dist-packages (from spacy<3.2.0,>=3.1.0->en-core-web-sm==3.1.0) (21.0)\n",
            "Requirement already satisfied: catalogue<2.1.0,>=2.0.4 in /usr/local/lib/python3.7/dist-packages (from spacy<3.2.0,>=3.1.0->en-core-web-sm==3.1.0) (2.0.6)\n",
            "Requirement already satisfied: blis<0.8.0,>=0.4.0 in /usr/local/lib/python3.7/dist-packages (from spacy<3.2.0,>=3.1.0->en-core-web-sm==3.1.0) (0.4.1)\n",
            "Requirement already satisfied: typer<0.4.0,>=0.3.0 in /usr/local/lib/python3.7/dist-packages (from spacy<3.2.0,>=3.1.0->en-core-web-sm==3.1.0) (0.3.2)\n",
            "Requirement already satisfied: tqdm<5.0.0,>=4.38.0 in /usr/local/lib/python3.7/dist-packages (from spacy<3.2.0,>=3.1.0->en-core-web-sm==3.1.0) (4.62.0)\n",
            "Requirement already satisfied: zipp>=0.5 in /usr/local/lib/python3.7/dist-packages (from catalogue<2.1.0,>=2.0.4->spacy<3.2.0,>=3.1.0->en-core-web-sm==3.1.0) (3.5.0)\n",
            "Requirement already satisfied: pyparsing>=2.0.2 in /usr/local/lib/python3.7/dist-packages (from packaging>=20.0->spacy<3.2.0,>=3.1.0->en-core-web-sm==3.1.0) (2.4.7)\n",
            "Requirement already satisfied: smart-open<6.0.0,>=5.0.0 in /usr/local/lib/python3.7/dist-packages (from pathy>=0.3.5->spacy<3.2.0,>=3.1.0->en-core-web-sm==3.1.0) (5.1.0)\n",
            "Requirement already satisfied: chardet<4,>=3.0.2 in /usr/local/lib/python3.7/dist-packages (from requests<3.0.0,>=2.13.0->spacy<3.2.0,>=3.1.0->en-core-web-sm==3.1.0) (3.0.4)\n",
            "Requirement already satisfied: certifi>=2017.4.17 in /usr/local/lib/python3.7/dist-packages (from requests<3.0.0,>=2.13.0->spacy<3.2.0,>=3.1.0->en-core-web-sm==3.1.0) (2021.5.30)\n",
            "Requirement already satisfied: idna<3,>=2.5 in /usr/local/lib/python3.7/dist-packages (from requests<3.0.0,>=2.13.0->spacy<3.2.0,>=3.1.0->en-core-web-sm==3.1.0) (2.10)\n",
            "Requirement already satisfied: urllib3!=1.25.0,!=1.25.1,<1.26,>=1.21.1 in /usr/local/lib/python3.7/dist-packages (from requests<3.0.0,>=2.13.0->spacy<3.2.0,>=3.1.0->en-core-web-sm==3.1.0) (1.24.3)\n",
            "Requirement already satisfied: click<7.2.0,>=7.1.1 in /usr/local/lib/python3.7/dist-packages (from typer<0.4.0,>=0.3.0->spacy<3.2.0,>=3.1.0->en-core-web-sm==3.1.0) (7.1.2)\n",
            "Requirement already satisfied: MarkupSafe>=0.23 in /usr/local/lib/python3.7/dist-packages (from jinja2->spacy<3.2.0,>=3.1.0->en-core-web-sm==3.1.0) (2.0.1)\n",
            "Installing collected packages: en-core-web-sm\n",
            "  Attempting uninstall: en-core-web-sm\n",
            "    Found existing installation: en-core-web-sm 2.2.5\n",
            "    Uninstalling en-core-web-sm-2.2.5:\n",
            "      Successfully uninstalled en-core-web-sm-2.2.5\n",
            "Successfully installed en-core-web-sm-3.1.0\n",
            "\u001b[38;5;2m✔ Download and installation successful\u001b[0m\n",
            "You can now load the package via spacy.load('en_core_web_sm')\n",
            "Collecting en-core-web-md==3.1.0\n",
            "  Downloading https://github.com/explosion/spacy-models/releases/download/en_core_web_md-3.1.0/en_core_web_md-3.1.0-py3-none-any.whl (45.4 MB)\n",
            "\u001b[K     |████████████████████████████████| 45.4 MB 16 kB/s \n",
            "\u001b[?25hRequirement already satisfied: spacy<3.2.0,>=3.1.0 in /usr/local/lib/python3.7/dist-packages (from en-core-web-md==3.1.0) (3.1.2)\n",
            "Requirement already satisfied: spacy-legacy<3.1.0,>=3.0.7 in /usr/local/lib/python3.7/dist-packages (from spacy<3.2.0,>=3.1.0->en-core-web-md==3.1.0) (3.0.8)\n",
            "Requirement already satisfied: numpy>=1.15.0 in /usr/local/lib/python3.7/dist-packages (from spacy<3.2.0,>=3.1.0->en-core-web-md==3.1.0) (1.19.5)\n",
            "Requirement already satisfied: murmurhash<1.1.0,>=0.28.0 in /usr/local/lib/python3.7/dist-packages (from spacy<3.2.0,>=3.1.0->en-core-web-md==3.1.0) (1.0.5)\n",
            "Requirement already satisfied: catalogue<2.1.0,>=2.0.4 in /usr/local/lib/python3.7/dist-packages (from spacy<3.2.0,>=3.1.0->en-core-web-md==3.1.0) (2.0.6)\n",
            "Requirement already satisfied: typer<0.4.0,>=0.3.0 in /usr/local/lib/python3.7/dist-packages (from spacy<3.2.0,>=3.1.0->en-core-web-md==3.1.0) (0.3.2)\n",
            "Requirement already satisfied: jinja2 in /usr/local/lib/python3.7/dist-packages (from spacy<3.2.0,>=3.1.0->en-core-web-md==3.1.0) (2.11.3)\n",
            "Requirement already satisfied: packaging>=20.0 in /usr/local/lib/python3.7/dist-packages (from spacy<3.2.0,>=3.1.0->en-core-web-md==3.1.0) (21.0)\n",
            "Requirement already satisfied: blis<0.8.0,>=0.4.0 in /usr/local/lib/python3.7/dist-packages (from spacy<3.2.0,>=3.1.0->en-core-web-md==3.1.0) (0.4.1)\n",
            "Requirement already satisfied: srsly<3.0.0,>=2.4.1 in /usr/local/lib/python3.7/dist-packages (from spacy<3.2.0,>=3.1.0->en-core-web-md==3.1.0) (2.4.1)\n",
            "Requirement already satisfied: cymem<2.1.0,>=2.0.2 in /usr/local/lib/python3.7/dist-packages (from spacy<3.2.0,>=3.1.0->en-core-web-md==3.1.0) (2.0.5)\n",
            "Requirement already satisfied: wasabi<1.1.0,>=0.8.1 in /usr/local/lib/python3.7/dist-packages (from spacy<3.2.0,>=3.1.0->en-core-web-md==3.1.0) (0.8.2)\n",
            "Requirement already satisfied: thinc<8.1.0,>=8.0.8 in /usr/local/lib/python3.7/dist-packages (from spacy<3.2.0,>=3.1.0->en-core-web-md==3.1.0) (8.0.9)\n",
            "Requirement already satisfied: typing-extensions<4.0.0.0,>=3.7.4 in /usr/local/lib/python3.7/dist-packages (from spacy<3.2.0,>=3.1.0->en-core-web-md==3.1.0) (3.7.4.3)\n",
            "Requirement already satisfied: pathy>=0.3.5 in /usr/local/lib/python3.7/dist-packages (from spacy<3.2.0,>=3.1.0->en-core-web-md==3.1.0) (0.6.0)\n",
            "Requirement already satisfied: setuptools in /usr/local/lib/python3.7/dist-packages (from spacy<3.2.0,>=3.1.0->en-core-web-md==3.1.0) (57.4.0)\n",
            "Requirement already satisfied: pydantic!=1.8,!=1.8.1,<1.9.0,>=1.7.4 in /usr/local/lib/python3.7/dist-packages (from spacy<3.2.0,>=3.1.0->en-core-web-md==3.1.0) (1.8.2)\n",
            "Requirement already satisfied: preshed<3.1.0,>=3.0.2 in /usr/local/lib/python3.7/dist-packages (from spacy<3.2.0,>=3.1.0->en-core-web-md==3.1.0) (3.0.5)\n",
            "Requirement already satisfied: requests<3.0.0,>=2.13.0 in /usr/local/lib/python3.7/dist-packages (from spacy<3.2.0,>=3.1.0->en-core-web-md==3.1.0) (2.23.0)\n",
            "Requirement already satisfied: tqdm<5.0.0,>=4.38.0 in /usr/local/lib/python3.7/dist-packages (from spacy<3.2.0,>=3.1.0->en-core-web-md==3.1.0) (4.62.0)\n",
            "Requirement already satisfied: zipp>=0.5 in /usr/local/lib/python3.7/dist-packages (from catalogue<2.1.0,>=2.0.4->spacy<3.2.0,>=3.1.0->en-core-web-md==3.1.0) (3.5.0)\n",
            "Requirement already satisfied: pyparsing>=2.0.2 in /usr/local/lib/python3.7/dist-packages (from packaging>=20.0->spacy<3.2.0,>=3.1.0->en-core-web-md==3.1.0) (2.4.7)\n",
            "Requirement already satisfied: smart-open<6.0.0,>=5.0.0 in /usr/local/lib/python3.7/dist-packages (from pathy>=0.3.5->spacy<3.2.0,>=3.1.0->en-core-web-md==3.1.0) (5.1.0)\n",
            "Requirement already satisfied: idna<3,>=2.5 in /usr/local/lib/python3.7/dist-packages (from requests<3.0.0,>=2.13.0->spacy<3.2.0,>=3.1.0->en-core-web-md==3.1.0) (2.10)\n",
            "Requirement already satisfied: urllib3!=1.25.0,!=1.25.1,<1.26,>=1.21.1 in /usr/local/lib/python3.7/dist-packages (from requests<3.0.0,>=2.13.0->spacy<3.2.0,>=3.1.0->en-core-web-md==3.1.0) (1.24.3)\n",
            "Requirement already satisfied: chardet<4,>=3.0.2 in /usr/local/lib/python3.7/dist-packages (from requests<3.0.0,>=2.13.0->spacy<3.2.0,>=3.1.0->en-core-web-md==3.1.0) (3.0.4)\n",
            "Requirement already satisfied: certifi>=2017.4.17 in /usr/local/lib/python3.7/dist-packages (from requests<3.0.0,>=2.13.0->spacy<3.2.0,>=3.1.0->en-core-web-md==3.1.0) (2021.5.30)\n",
            "Requirement already satisfied: click<7.2.0,>=7.1.1 in /usr/local/lib/python3.7/dist-packages (from typer<0.4.0,>=0.3.0->spacy<3.2.0,>=3.1.0->en-core-web-md==3.1.0) (7.1.2)\n",
            "Requirement already satisfied: MarkupSafe>=0.23 in /usr/local/lib/python3.7/dist-packages (from jinja2->spacy<3.2.0,>=3.1.0->en-core-web-md==3.1.0) (2.0.1)\n",
            "Installing collected packages: en-core-web-md\n",
            "Successfully installed en-core-web-md-3.1.0\n",
            "\u001b[38;5;2m✔ Download and installation successful\u001b[0m\n",
            "You can now load the package via spacy.load('en_core_web_md')\n"
          ]
        }
      ]
    },
    {
      "cell_type": "code",
      "metadata": {
        "colab": {
          "base_uri": "https://localhost:8080/"
        },
        "id": "Q8hhzBPkF68S",
        "outputId": "70a42d6f-1752-4b6e-8751-72ee8cb283e4"
      },
      "source": [
        "# Standard Library\n",
        "import string\n",
        "import re\n",
        "\n",
        "# Pdf Reader\n",
        "import PyPDF2\n",
        "\n",
        "# Common Data Science Libraries\n",
        "import numpy as np\n",
        "import pandas as pd\n",
        "import matplotlib.pyplot as plt\n",
        "import seaborn as sns\n",
        "\n",
        "# Machine Learning\n",
        "from sklearn.linear_model import LogisticRegression\n",
        "from sklearn.model_selection import train_test_split\n",
        "from sklearn.feature_extraction.text import CountVectorizer\n",
        "\n",
        "# Deep Learning\n",
        "import keras\n",
        "from keras.preprocessing.text import Tokenizer\n",
        "from keras.preprocessing.sequence import pad_sequences\n",
        "\n",
        "# NLP\n",
        "import nltk\n",
        "from nltk.corpus import stopwords\n",
        "# Beberapa fungsi dalam nltk membutuhkan file ini\n",
        "nltk.download(\"punkt\")\n",
        "nltk.download(\"stopwords\")\n",
        "\n",
        "import spacy\n",
        "from spacy import displacy\n",
        "\n",
        "# User Interface\n",
        "import gradio as gr"
      ],
      "execution_count": 2,
      "outputs": [
        {
          "output_type": "stream",
          "name": "stdout",
          "text": [
            "[nltk_data] Downloading package punkt to /root/nltk_data...\n",
            "[nltk_data]   Unzipping tokenizers/punkt.zip.\n",
            "[nltk_data] Downloading package stopwords to /root/nltk_data...\n",
            "[nltk_data]   Unzipping corpora/stopwords.zip.\n"
          ]
        }
      ]
    },
    {
      "cell_type": "markdown",
      "metadata": {
        "id": "EbrPhs6TGAei"
      },
      "source": [
        "# Download Data"
      ]
    },
    {
      "cell_type": "code",
      "metadata": {
        "id": "J1IeD7DrF96a"
      },
      "source": [
        "# Bash command untuk mendownload file PDF\n",
        "!wget -q https://www.mkri.id/public/content/infoumum/regulation/pdf/UUD45%20ASLI.pdf"
      ],
      "execution_count": 3,
      "outputs": []
    },
    {
      "cell_type": "code",
      "metadata": {
        "colab": {
          "base_uri": "https://localhost:8080/"
        },
        "id": "jAMrwuhgGIKT",
        "outputId": "43ecc8d1-ebbb-4c7f-caaf-fabe1e69b6c5"
      },
      "source": [
        "# Download data untuk machine learning\n",
        "!git clone https://github.com/rakkaalhazimi/Data-NLP-Bahasa-Indonesia"
      ],
      "execution_count": 4,
      "outputs": [
        {
          "output_type": "stream",
          "name": "stdout",
          "text": [
            "Cloning into 'Data-NLP-Bahasa-Indonesia'...\n",
            "remote: Enumerating objects: 12, done.\u001b[K\n",
            "remote: Counting objects: 100% (12/12), done.\u001b[K\n",
            "remote: Compressing objects: 100% (11/11), done.\u001b[K\n",
            "remote: Total 12 (delta 1), reused 0 (delta 0), pack-reused 0\u001b[K\n",
            "Unpacking objects: 100% (12/12), done.\n"
          ]
        }
      ]
    },
    {
      "cell_type": "markdown",
      "metadata": {
        "id": "9cpmMHnZGUq6"
      },
      "source": [
        "# 1 - Analisis Konteks menggunakan NLTK"
      ]
    },
    {
      "cell_type": "markdown",
      "metadata": {
        "id": "QvBb0Q7lGZDR"
      },
      "source": [
        "## Baca file pdf"
      ]
    },
    {
      "cell_type": "code",
      "metadata": {
        "id": "6FbSbPzlGWeB"
      },
      "source": [
        "pdf = open(\"UUD45 ASLI.pdf\", \"rb\")\n",
        "pdf_reader = PyPDF2.PdfFileReader(pdf)"
      ],
      "execution_count": 5,
      "outputs": []
    },
    {
      "cell_type": "markdown",
      "metadata": {
        "id": "N6fFm9jgGhAp"
      },
      "source": [
        "## Ekstrak teks dalam pdf"
      ]
    },
    {
      "cell_type": "code",
      "metadata": {
        "id": "FPE3EYtKGfeB"
      },
      "source": [
        "# Ambil teks di tiap halaman pdf\n",
        "def get_pdf_text(pdf):\n",
        "    return \"\\n\".join(page.extractText() for page in pdf.pages)\n",
        "\n",
        "uud45 = get_pdf_text(pdf_reader)"
      ],
      "execution_count": 6,
      "outputs": []
    },
    {
      "cell_type": "code",
      "metadata": {
        "colab": {
          "base_uri": "https://localhost:8080/"
        },
        "id": "HC9Y6RpaGkOx",
        "outputId": "c87af58a-8ab2-47dc-b927-75f3082e63d4"
      },
      "source": [
        "# Rapikan teks dengan regular expression\n",
        "def format_linespace(text):\n",
        "    text = re.sub(r\"(\\w)(\\n)(\\w)\", r\"\\1\\3\", text) # menghilangkan baris diantara kata\n",
        "    text = re.sub(r\"(\\n)(-)(\\n)\", r\"\\2\", text)    # menghilangkan baris diantara tanda \"-\"\n",
        "    return text\n",
        "\n",
        "uud45_clean = format_linespace(uud45)\n",
        "print(uud45_clean[:1000])"
      ],
      "execution_count": 7,
      "outputs": [
        {
          "output_type": "stream",
          "name": "stdout",
          "text": [
            " \n",
            " \n",
            "UNDANG-UNDANG DASAR \n",
            "NEGARA\n",
            " \n",
            "REPUBLIK INDONESIA \n",
            " \n",
            "1945\n",
            " \n",
            " \n",
            "Pembukaan\n",
            " \n",
            "Bahwa sesungguhnya kemerdekaan itu ialah hak segala bangsa dan oleh sebab itu, maka \n",
            "penjajahan diatas dunia harus dihapuskan\n",
            ",\n",
            " \n",
            "karena tidak sesuai dengan perikemanusiaan \n",
            "dan perikeadilan.\n",
            " \n",
            " \n",
            "Dan perjuangan pergerakan kemerdekaan Indonesia telah sampailah kepada saat yang \n",
            "berbahagia dengan selamat sentosa mengantarkan rakyat Indonesia ke depan pintu \n",
            "gerbang kemerdekaan negara Indonesia, yang merdeka, bersatu, berdaulat, adil dan \n",
            "makmur.\n",
            " \n",
            " \n",
            "Atas berkat rahmat Allah Yang Maha Kuasa dan dengan didorongkan oleh keinginan \n",
            "luhur, supaya berkehidupan kebangsaan yang bebas, maka rakyat Indonesia menyatakan \n",
            "dengan\n",
            " \n",
            "ini\n",
            " \n",
            "kemerdekaannya.\n",
            " \n",
            " \n",
            "Kemudian daripada itu untuk membentuk suatu Pemerintah Negara Indonesia yang \n",
            "melindungi segenap bangsa Indonesia dan seluruh tumpah darah Indonesia dan untuk \n",
            "memajukan kesejahteraan umum, mencerdaskan kehidupan bangsa, dan ikut \n",
            "melaksanakan ketertiban dunia yang berdas\n"
          ]
        }
      ]
    },
    {
      "cell_type": "markdown",
      "metadata": {
        "id": "KbrhyKhFGrVb"
      },
      "source": [
        "## Tokenisasi\n",
        "Ubah teks menjadi kumpulan kata"
      ]
    },
    {
      "cell_type": "code",
      "metadata": {
        "colab": {
          "base_uri": "https://localhost:8080/",
          "height": 171
        },
        "id": "LDsXEfa05kCL",
        "outputId": "67d78188-b1ee-4b5d-a4f0-3d814484b8f2"
      },
      "source": [
        "uud45_clean.lower()"
      ],
      "execution_count": 8,
      "outputs": [
        {
          "output_type": "execute_result",
          "data": {
            "application/vnd.google.colaboratory.intrinsic+json": {
              "type": "string"
            },
            "text/plain": [
              "' \\n \\nundang-undang dasar \\nnegara\\n \\nrepublik indonesia \\n \\n1945\\n \\n \\npembukaan\\n \\nbahwa sesungguhnya kemerdekaan itu ialah hak segala bangsa dan oleh sebab itu, maka \\npenjajahan diatas dunia harus dihapuskan\\n,\\n \\nkarena tidak sesuai dengan perikemanusiaan \\ndan perikeadilan.\\n \\n \\ndan perjuangan pergerakan kemerdekaan indonesia telah sampailah kepada saat yang \\nberbahagia dengan selamat sentosa mengantarkan rakyat indonesia ke depan pintu \\ngerbang kemerdekaan negara indonesia, yang merdeka, bersatu, berdaulat, adil dan \\nmakmur.\\n \\n \\natas berkat rahmat allah yang maha kuasa dan dengan didorongkan oleh keinginan \\nluhur, supaya berkehidupan kebangsaan yang bebas, maka rakyat indonesia menyatakan \\ndengan\\n \\nini\\n \\nkemerdekaannya.\\n \\n \\nkemudian daripada itu untuk membentuk suatu pemerintah negara indonesia yang \\nmelindungi segenap bangsa indonesia dan seluruh tumpah darah indonesia dan untuk \\nmemajukan kesejahteraan umum, mencerdaskan kehidupan bangsa, dan ikut \\nmelaksanakan ketertiban dunia yang berdasarkan kemerdekaan, perdamaian abadi dan \\nkeadilan sosial, maka disusunlah kemerdekaan kebangsaan indonesia itu dalam suatu \\nundang-undang dasar negara indonesia, yang\\n \\nterbentuk dalam suatu susunan negara \\nrepublik indonesia yang berkedaulatan rakyat dengan berdasar kepada : ketuhanan yang \\nmaha esa, kemanusiaan yang adil dan beradab, persatuan indonesia, dan kerakyatan yang  \\ndipimpin oleh hikmat kebijaksanaan dalam permusyawaratan/perwakilan, serta dengan \\nmewujudkan suatu \\nkeadilan sosial bagi seluruh rakyat indonesia.\\n \\n \\nundang-undang dasar\\n \\n \\nbab i\\n \\nbentuk dan kedaulatan\\n \\npasal 1\\n \\n(1) negara indonesia ialah negara kesatuan yang berbentuk republik.\\n \\n(2) kedaulatan adalah di tangan rakyat, dan dilakukan sepenuhnya oleh majelis\\n \\npermusyawaratan rakyat.\\n \\n \\nbab ii\\n \\nmajelis permusyawaratan rakyat\\n \\npasal 2\\n \\n\\n(1) majelis permusyawaratan rakyat terdiri atas anggota-anggota dewan perwakilan \\nrakyat,\\n \\nditambah dengan utusan-utusan dari daerah-daerah dan golongan-golongan, \\nmenurut aturan\\n \\nyang ditetapkan dengan undang-undang.\\n \\n(2) majelis permusyawaratan rakyat bersidang sedikitnya sekali dalam lima tahun di \\nibukota\\n \\nnegara.\\n \\n(3) segala putusan majelis permusyawaratan rakyat ditetapkan dengan suara yang \\nterbanyak.\\n \\npasal 3\\n \\nmajelis permusyawaratan rakyat menetapkan undang-undang dasar dan garis-garis \\nbesar dari ada haluan negara.\\n \\n \\n \\n \\n \\nbab iii\\n \\nkekuasaan pemerintah negara\\n \\npasal 4\\n \\n(1) presiden republik indonesia memegang kekuasaan pemerintahan menurut undang-undang dasar.\\n \\n(2) dalam melakukan kewajibannya presiden \\ndibantu oleh satu orang wakil presiden.\\n \\n \\npasal 5\\n \\n(1) presiden memegang kekuasaan membentuk undang- \\nundang dengan persetujuan \\ndewan\\n \\nperwakilan rakyat.\\n \\n(2) presiden menetapkan peraturan pemerintah untuk menjalankan undang-undang \\nsebagaimana mestinya.\\n \\n \\npasal \\n6\\n \\n(1) presiden ialah orang indonesia asli.\\n \\n(2) presiden dan wakil presiden dipilih oleh majelis permusyawaratan rakyat dengan \\nsuara\\n \\nyang terbanyak.\\n \\n \\npasal 7\\n \\npresiden dan wakil presiden memegang jabatannya selama masa lima tahun, dan \\nsesudahnya dapat dipilih kembali.\\n \\n \\npasal 8\\n \\njika presiden mangkat, berhenti, atau tidak dapat melakukan kewajibannya dalam masa \\njabatannya, ia diganti oleh wakil presiden sampai habis waktunya.\\n \\n \\npasal 9\\n \\n\\nsebelum memangku jabatannya, presiden dan wakil presiden bersumpah menurut \\nagama, atau berjanji dengan sungguh-sungguh di hadapan majelis permusyawaratan \\nrakyat atau dewan perwakilan rakyat sebagai berikut:\\n \\nsumpah presiden (wakil presiden):\\n \\n\"demi allah, saya bersumpah akan memenuhi kewajiban presiden republik indonesia \\n(wakil presiden republik indonesia) dengan sebaik-baiknya dan seadil-adilnya, \\nmemegang teguh undang- \\nundang dasar dan menjalankan segala undang-undang dan \\nperaturannya dengan selurus-lurusnya serta berbakti kepada nusa dan bangsa.\\n \\n \\n\"janji presiden (wakilpresiden):\\n \\n\"saya berjanji dengan sungguh-sungguh akan memenuhi kewajiban presiden republik \\nindonesia (wakil presiden republik indonesia) dengan sebaik-baiknya dan seadil-adilnya, memegang teguh undang-undang dasar dan menjalankan segala undang-undang dan peraturannya dengan seluruslurusnya serta berbakti kepada nusa dan \\nbangsa.\"\\n \\n \\npasal 10\\n \\npresiden memegang kekuasaan yang tertinggi atas angkatan darat, angkatan laut, dan \\nangkatan udara.\\n \\n \\npasal 11\\n \\npresiden dengan persetujuan dewan perwakilan rakyat menyatakan perang, membuat \\nperdamaian dan perjanjian dengan negara lain.\\n \\npasal 12\\n \\npresiden menyatakan keadaan bahaya. syarat-syarat dan akibatnya keadaan bahaya \\nditetapkan dengan undang-undang.\\n \\n \\npasal 13\\n \\n(1) presiden mengangkat duta dan konsul.\\n \\n(2) presiden menerima duta negara lain.\\n \\n \\npasal 14\\n \\npresiden memberi grasi, amnesti, abolisi, dan rehabilitasi.\\n \\n \\npasal 15\\n \\npresiden memberi gelaran, tanda jasa ,dan lain-lain tanda kehormatan.\\n \\n \\nbab iv\\n \\ndewan pertimbangan agung\\n \\npasal 16\\n \\n(1) susunan dewan pertimbangan agung ditetapkan dengan undang-undang.\\n \\n(2) dewan ini berkewajiban memberi jawab atas pertanyaan presiden dan berhak \\nmemajukan\\n \\nusul kepada pemerintah.\\n \\n \\nbab v\\n \\n\\nkementerian negara\\n \\npasal 17\\n \\n(1) presiden dibantu oleh menteri-menteri negara.\\n \\n(2) menteri-menteri itu diangkat dan diperhentikan oleh presiden.\\n \\n(3) menteri-menteri itu memimpin departemen pemerintahan.\\n \\n \\nbab vi\\n \\npemerintahan daerah\\n \\npasal 18\\n \\npembagian daerah indonesia atas daerah besar dan kecil, dengan bentuk susunan \\npemerintahannya ditetapkan dengan undang-undang, dengan memandang \\ndan mengingati \\ndasar permusyawaratan dalam sistem pemerintahan negara, dan hak-hak asal-usul dalam \\ndaerah-daerah yang bersifat istimewa.\\n \\n \\nbab vii\\n \\ndewan perwakilan rakyat\\n \\npasal 19\\n \\n(1) susunan dewan perwakilan rakyat ditetapkan dengan undang-undang.\\n \\n(2) dewan perwakilan rakyat bersidang sedikitnya sekali dalam setahun.\\n \\n \\npasal 20\\n \\n(1) tiap-tiap undang-undang menghendaki persetujuan dewan perwakilan rakyat.\\n \\n(2) jika sesuatu rancangan undang-undang tidak mendapat persetujuan dewan \\nperwakilan\\n \\nrakyat, maka rancangan tadi tidak boleh dimajukan lagi dalam persidangan dewan\\n \\nperwakilan rakyat masa itu.\\n \\n \\n \\npasal 21\\n \\n(1) anggota-anggota dewan perwakilan rakyat berhak memajukan rancangan undang-undang.\\n \\n(2) jika rancangan itu, meskipun disetujui oleh dewan perwakilan rakyat, \\ntidak \\ndisyahkan oleh presiden, maka rancangan tadi tidak boleh dimajukan lagi dalam \\npersidangan dewan\\n \\nperwakilan rakyat masa itu.\\n \\n \\npasal 22\\n \\n(1) dalam hal ihwal kegentingan yang memaksa, presiden berhak menetapkan peraturan\\n \\npemerintah pengganti undang-undang.\\n \\n(2) peraturan pemerintah itu harus mendapat persetujuan dewan perwakilan rakyat \\ndalam\\n \\npersidangan yang berikut.\\n \\n(3) jika tidak mendapat persetujuan, maka peraturan pemerintah itu harus dicabut.\\n \\n \\nbab viii\\n \\nhal keuangan\\n \\n\\npasal 23\\n \\n(1) anggaran pendapatan dan\\n \\nbelanja ditetapkan tiap-tiap tahun dengan undang-undang. \\napabila dewan perwakilan rakyat tidak menyetujui anggaran yang diusulkan \\npemerintah, maka pemerintah menjalankan anggaran tahun yang lalu.\\n \\n(2) segala pajak untuk keperluan negara berdasarkan undang-undang.\\n \\n(3) macam dan harga mata uang ditetapkan dengan undang-undang.\\n \\n(4) hal keuangan negara selanjutnya diatur dengan undang-undang.\\n \\n(5) untuk memeriksa tanggung jawab tentang keuangan negara diadakan suatu badan \\npemeriksa keuangan, yang peraturannya ditetapkan dengan undang-undang. hasil \\npemeriksaan itu diberitahukan kepada dewan perwakilan rakyat.\\n \\n \\nbab ix\\n \\nkekuasaan kehakiman\\n \\npasal 24\\n \\n(1) kekuasaan kehakiman dilakukan oleh sebuah mahkamah agung dan lain-lain badan\\n \\nkehakiman menurut undang-undang.\\n \\n(2) susunan dan kekuasaan badan kehakiman itu diatur dengan undang-undang.\\n \\n \\npasal 25\\n \\nsyarat-syarat untuk menjadi dan diperhentikan sebagai hakim ditetapkan dengan undang-undang.\\n \\n \\nbab x\\n \\nwarga negara\\n \\npasal 26\\n \\n(1) yang menjadi warga negara ialah orang-orang bangsa \\nindonesia asli dan orang-orang \\nbangsa lain yang disahkan dengan undang-undang sebagai warga negara.\\n \\n(2) syarat-syarat yang mengenai kewarganegaraan ditetapkan dengan undang-undang.\\n \\n \\n \\n \\n \\n \\npasal 27\\n \\n(1) segala warga negara bersamaan kedudukannya dalam hukum dan pemerintahan dan \\nwajib menjunjung hukum dan pemerintahan itu dengan tidak ada kecualinya.\\n \\n(2) tiap-tiap warga negara berhak atas pekerjaan dan penghidupan yang layak bagi\\n \\nkemanusiaan.\\n \\n \\npasal 28\\n \\nkemerdekaan berserikat dan berkumpul, mengeluarkan pikiran dengan lisan dan tulisan \\ndan\\n \\nsebagainya ditetapkan dengan undang-undang.\\n \\n \\nbab xi\\n \\nagama\\n \\n\\npasal 29\\n \\n(1) negara berdasar atas ketuhanan yang maha esa.\\n \\n(2) negara menjamin kemerdekaan tiap-tiap penduduk untuk memeluk agamanya \\nmasing-masing dan untuk beribadat menurut agamanya dan kepercayaannya itu.\\n \\n \\nbab xii\\n \\npertahanan negara\\n \\npasal 30\\n \\n(1) tiap-tiap warga negara berhak dan wajib ikut serta dalam usaha pembelaan negara.\\n \\n(2) syarat-syarat tentang pembelaan diatur dengan undang-undang.\\n \\n \\nbab xiii\\n \\npendidikan\\n \\npasal 31\\n \\n(1\\n) tiap-tiap warga negara berhak mendapat pengajaran.\\n \\n(2) pemerintah mengusahakan dan menyelenggarakan satu sistem pengajaran nasional, \\nyang\\n \\ndiatur dengan undang-undang.\\n \\n \\npasal 32\\n \\npemerintah memajukan kebudayaan nasional indonesia.\\n \\n \\nbab xiv\\n \\nkesejahteraan sosial\\n \\npasal 33\\n \\n(1) perekonomian disusun sebagai usaha bersama berdasar atas asas kekeluargaan.\\n \\n(2) cabang-cabang produksi yang penting bagi negara dan yang menguasai hajat hidup \\norang\\n \\nbanyak dikuasai oleh negara.\\n \\n(3) bumi dan air dan kekayaan alam yang terkandung didalamnya dikuasai oleh negara \\ndan\\n \\ndipergunakan untuk sebesar-besar kemakmuran rakyat.\\n \\n \\npasal 34\\n \\nfakir miskin dan anak-anakyang terlantar dipelihara oleh negara.\\n \\n \\n \\n \\n \\n \\nbab xv\\n \\nbendera dan bahasa\\n \\npasal 35\\n \\nbendera negara indonesia ialah sang merah putih.\\n \\npasal 36\\n \\nbahasa negara ialah bahasa indonesia.\\n \\n\\n \\nbab xvi\\n \\nperubahan undang-undang dasar\\n \\npasal 37\\n \\n(1) untuk mengubah undang-undang dasar sekurang-kurangnya 2/3 dari pada jumlah \\nanggota majelis permusyawaratan rakyat harus hadir.\\n \\n(2) putusan diambil dengan \\npersetujuan sekurang-kurangnya 2/3 dari pada jumlah \\nanggota\\n \\nmajelis permusyawaratan rakyat yang hadir.\\n \\n \\naturan peralihan\\n \\npasal 1\\n \\npanitia persiapan kemerdekaan indonesia mengatur dan menyelenggarakan kepindahan\\n \\npemerintahan kepada pemerintah indonesia .\\n \\n \\npasal ii\\n \\nsegala badan negara dan peraturan yang ada masih langsung berlaku, selama belum \\ndiadakan yang baru menurut undang-undang dasar ini.\\n \\n \\npasal iii\\n \\nuntuk pertama kali presiden dan wakil presiden dipilih oleh panitia persiapan \\nkemerdekaan\\n \\nindonesia.\\n \\n \\npasal iv\\n \\nsebelum majelis permusyawaratan rakyat, dewan perwakilan rakyat, dan dewan \\npertimbangan agung dibentuk menurut undang-undang dasar ini, segala kekuasaannya \\ndijalankan oleh presiden dengan bantuan sebuah komite nasional.\\n \\n \\naturan pertambahan\\n \\n(1) dalam enam bulan sesudah akhirnya peperangan asia timur raya, presiden \\nindonesia\\n \\nmengatur dan menyelenggarakan segala hal yang ditetapkan dalam undang-undang \\ndasar\\n \\nini.\\n \\n(2) dalam enam bulan sesudah majelis permusyawaratan rakyat dibentuk, majelis itu \\nbersidang untuk menetapkan undang-undang dasar.\\n \\n \\n \\n \\n \\n \\n \\n \\n \\n \\n\\npenjelasan tentang undang-undang dasar negara indonesia\\n \\n \\numum\\n \\ni. undang-undang dasar, sebagian dari hukum dasar\\n \\nundang-undang dasar suatu negara ialah hanya sebagian dari hukumnya dasar negara \\nitu.\\n \\nundang-undang\\n \\ndasar ialah hukum dasar yang tertulis, sedang di sampingnya undang- \\nundang dasar itu berlaku juga hukum dasar yang tidak tertulis, ialah aturan-aturan dasar\\n \\nyang timbul dan terpelihara dalam praktek penyelenggaraan negara meskipun tidak \\nditulis.\\n \\nmemang untuk menyelidiki hukum dasar (\\ndroit constitution nel\\n) suatu neqara, tidak \\ncukup\\n \\nhanya menyelidiki pasal-pasal undang-undang dasarnya (loi constituttionelle) saja, \\nakan\\n \\ntetapi harus menyelid1ki juga bagaimana prakteknya dan bagaimana suasana \\nkebatinannya\\n \\n(\\ngeistlichen hintergrund\\n) dait undang- \\nundang dasar itu.\\n \\n \\nundang-undang dasar negara manapun tidak dapat dimengerti kalau hanya dibaca \\nteksnya\\n \\nsaja. untuk mengerti sungguh-sungguh maksudnya undang-undang dasar dari suatu \\nnegara,\\n \\nkita harus mempelajari juga bagaimana terjadinya teks itu, harus diketahui keterangan-keterangannya dan juga harus diketahui dalam suasana apa teks itu dibikin.\\n \\n \\ndengan demikian kita dapat mengerti apa maksudnya undang-undang yang kita pelajari \\naliran\\n \\npikiran apa yang menjadi dasar undang-undang itu.\\n \\n \\nii. pokok-pokok pikiran dalam \"pembukaan\"\\n \\n \\napakah pokok-pokok pikiran yang terkandung dalam \"pembukaan\" undang undang \\ndasar.\\n \\n \\n1 . \"negara\" - \\nbegitu bunyinya - \\nmelindungi segenap bangsa indonesia dan seluruh \\ntumpah\\n \\ndarah indonesia dengan berdasar atas persatuan dengan mewujudkan keadilan sosial bagi\\n \\nseluruh rakyat indonesia\".\\n \\n \\ndalam pembukaan ini diterima aliran pengertian negara persatuan, negara yang \\nmelindungi\\n \\ndan meliputi segenap bangsa seluruhnya. jadi negara mengatasi segala paham golongan,\\n \\nmengatasi segala paham perseorangan. negara, menurut pengertian \"pembukaan\" itu\\n \\nmenghendaki persatuan. meliputi segenap bangsa indonesia seluruhnya. inilah suatu \\ndasar\\n \\nnegara yang tidak boleh dilupakan.\\n \\n\\n \\n2. negara hendak mewujudkan keadilan sosial bagi seluruh rakyat.\\n \\n \\n3.pokok yang ketiga yang terkandung dalam \"pembukaan\" ialah negara yang \\nberkedaulatan\\n \\nrakyat, berdasar atas kerakyatan dan permusyawaratan perwakilan. oleh karena itu \\nsistem\\n \\nnegara yang terbentuk dalam undang-undang dasar harus berdasar\\n \\natas kedaulatan \\nrakyat\\n \\ndan berdasar atas permusyawaratan perwakilan. memang aliran ini sesuai dengan sifat\\n \\nmasyarakat indonesia.\\n \\n \\n4. pokok pikiran yang keempat yang terkandung dalam \"pembukaan\" ialah negara \\nberdasar\\n \\natas ketuhanan yang maha esa menurut dasar kemanusiaan yang adil dan beradab. oleh\\n \\nkarena itu, undang-undang dasar harus mengandung isi yang mewajibkan pemerintah \\ndan\\n \\nlain-lain penyelenggara negara untuk memelihara budi pekerti kemanusiaan yang luhur \\ndan\\n \\nmemegang teguh cita-cita moral rakyat yang luhur.\\n \\n \\niii. undang-undang dasar menciptakan pokok-pokok pikiran yang terkandung dalam\\n \\npembukaan dalam pasal-pasalnya.\\n \\n \\npokok-pokok pikiran tersebut meliputi suasana kebatinan dari undang-undang dasar \\nnegara\\n \\nindonesia. pokok-pokok pikiran ini mewujudkan\\n \\ncita-cita hukum (reichtsidee) yang \\nmenguasai\\n \\n \\nhukum dasar negara, baik hukum yang tertulis (undang-undang, dasar) maupun hukum \\nyang\\n \\ntidak tertulis.\\n \\nundang-undang dasar menciptakan pokok-pokok pikiran ini dalam pasal-pasalnya.\\n \\n \\niv. undang-undang dasar bersifat singkat dan supel\\n \\n \\nundang-undang dasar hanya memuat 37 pasal. pasal-pasal lain hanya memuat peralihan \\ndan\\n \\ntambahan. maka rencana ini sangat singkat jika dibandingkan misalnya dengan undang- \\nundang dasar filipina.\\n \\n \\nmaka telah cukup jikalau undang-undang dasar hanya memuat aturan-aturan , pokok \\nhanya\\n \\nmemuat garis-garis besar sebagai instruksi kepada pemerintah pusat dan lain-lain \\npenyelenggara negara untuk menyelenggarakan kehidupan negara dan kesejahteraan \\nsosial. terutama bagi negara baru dan negara muda, lebih baik hukum dasar yang tertulis \\n\\nitu hanya memuat aturan-aturan pokok, sedang aturan-aturan yang menyelenggarakan \\naturan pokok itu diserahkan kepada undang-undang yanglehih mudah caranya membuat, \\nmerubah, dan mencabut.\\n \\n \\ndemikianlah sistem undang-undang dasar.\\n \\n \\nkita harus senantiasa ingat kepada dinamika kehidupan masyarakat dan negara \\nindonesia.\\n \\nmasyarakat dan negara indonesia tumbuh, dan berubah, terutama pada zaman revolusi \\nlahir\\n \\nbatin sekarang ini. oleh karena itu. kita harus hidup secara dinamis\\n, harus melihat segala\\n \\ngerak gerik kehidupan masyarakat dan negara indonesia. berhubung dengan itu, \\njanganlah\\n \\ntergesa-gesa memberi kristalisasi, memberi bentuk (gestaltung) kepada pikiran-pikiran \\nyang\\n \\nmasih mudah berubah.\\n \\n \\nmemang sifat aturan yang tertulis\\n \\nitu mengikat. oleh karena itu makin \"supel\" (elastic)\\n \\nsifatnya aturan itu makin baik. jadi kita harus menajga supaya sistem undang-undang \\ndasar\\n \\njangan sampai ketinggalan zaman. jangan sampai kita membikin undan-gundang yang \\nlekas\\n \\nusang (verouderd). yang sangat penting dalam pemerintahan dan dalam hal hidupnya \\nnegara\\n \\nlalah semangat, semangat para penyelenggara negara, semangat para pemimpin\\n \\npemerintahan. meskipun dibikin undang-undang dasar yang menurut kata-katanya \\nbersifat\\n \\nkekeluargaan, apabila semangat para penyelenggara negara, para pemimpin \\npemerintahan itu\\n \\nbersifat perseorangan, undang-undang dasar tadi tentu tidak ada artinya dalam praktek.\\n \\n \\nsebaliknya, meskipun undang-undang dasar itu tidak sempurna, akan tetapi jikalau \\nsemangat\\n \\npara penyelenggara pemerintahan baik, undang-undang dasar itu tentu tidak akan \\nmerintangi\\n \\njalannya negara. jadi yang paling penting ialah semangat. maka semangat itu hidup, atau\\n \\ndengan lain perkataan dinamis. berhubung dengan itu, hanya aturan-aturan pokok saja \\nharus\\n \\nditetapkan dalam undang-undang dasar, sedangkan hal-hal yang perlu untuk\\n \\nmenyelenggarakan aturan-aturan pokok itu harus diserahkan kepada undang-undang.\\n \\n \\nsistem pemerintahan negara\\n \\n \\nsistem pemerintahan negara yang ditegaskan dalam undang-undang dasar ialah:\\n \\n \\ni.indonesia ialah negara yang berdasar atas hukum (rechtsstaat).\\n \\n\\n \\n1. negara indonesia berdasar atas hukum, (rechtsstaat), tidak berdasarkan\\n \\nkekuasaan belaka (machtsstaat).\\n \\n \\nii sistem konstitusional.\\n \\n \\n2. pemerintahan berdasar atas sistem konstitusi (hukum dasar) \\ntidak bersifat\\n \\nabsolutisme (kekuasaan yang tidak terbatas).\\n \\n \\niii. kekuasaan negara yang tertinggi di tangan majelis permusyawaratan rakyat\\n \\n(die gezatnte staatgewalt liegi allein bei der majelis).\\n \\n \\n3. kedaulatan rakyat dipegang oleh suatu badan, bernama majelis permusyawaratan \\nrakyat,\\n \\nsebagai penjelmaan seluruh rakyat indonesia (vertretungsorgan des willens des\\n \\nstaatsvolkes). majelis ini menetapkan undang-undang dasar dan menetapkan garis-garis\\n \\nbesar haluan negara. majelis ini mengangkat kepala negara (presiden) dan wakil kepala\\n \\nnegara (wakil presiden). majelis inilah yang memegang kekuasaan negara yang \\ntertinggi,\\n \\nsedang presiden harus menjalankan haluan negara menurut garis-garis besar yang telah\\n \\nditetapkan oleh majelis. presiden yang diangkat oleh majelis, \\nbertunduk dan bertanggung\\n \\njawab kepada majelis. ia ialah \"mandataris\" dari majells. ia berwajib menjalankan \\nputusanputusan majelis.\\n \\n \\npresiden tidak \"neben\", akan tetapi \"untergeordnet\" kepada majelis.\\n \\n \\niv.presiden ialah penyelenggara pemerintah negara yang\\n \\ntertinggi di bawah majelis.\\n \\ndi bawah majelis permusyawaratan rakyat, presid en ialah penyelenggara pemerintah \\nnegara\\n \\nyang tertinggi. dalam menjalankan pemerintahan negara, kekuasaan dan tanggung jawab \\nadalah di tangan presiden (concentration of power and \\nresponssibility upon the \\npresident).\\n \\n \\nv. presiden tidak bertanggungjawab kepada dewan perwakilan rakyat.\\n \\n \\ndi sampingnya presiden adalah dewan perwakilan rakyat.\\n \\npresiden harus mendapat persetujuan dewan perwakilan rakyat untuk membentuk \\nundang-undang (gesetzgebung) dan untuk menetapkan anggaran pendapatan dan belanja \\nnegara\\n \\n(staatsbegrooting).\\n \\n \\noleh karena itu, presiden harus bekerja bersama-sama dengan dewan, akan tetapi \\npresiden\\n \\ntidak bertanggung jawab kepada dewan, artinya kedudukan presiden tidak tergantung \\ndari\\n \\npada dewan.\\n \\n\\n \\nvi. menteri negara ialah pembantu presiden; menteri negara tidak bertanggung jawab \\nkepada\\n \\ndewan perwakilan rakyat.\\n \\n \\npresiden mengangkat dan memperhentikan menteri-menteri negara. menteri-menteri itu \\ntidak\\n \\nbertanggungjawab kepada dewan perwakilan rakyat.\\n \\nkedudukannya tidak tergantung dari pada dewan, akan tetapi tergantung dari pada \\npresiden.\\n \\nmereka ialah pembantu presiden.\\n \\n \\nvi\\n.\\ni kekuasaan kepala negara tidak tak terbatas.\\n \\n \\nmeskipun kepala negara tidak bertanggungjawab kepada dewan perwakilan rakyat, ia \\nbukan\\n \\n\"diktator\", artinya kekuasaan tidak tak terbatas.\\n \\ndiatas telah ditegaskan bahwa ia bertanggung jawab kepada majelis permusyawaratan\\n \\nrakyat. kecuali itu ia harus memperhatikan sungguh-sungguh suara dewan perwakilan\\n \\nrakyat.\\n \\n \\nkedudukan dewan perwakilan rakyat adalah kuat.\\n \\n \\nkedudukan dewan perwakilan rakyat adalah kuat. dewan ini tidak bisa dibubarkan oleh\\n \\npresiden (berlainan dengan sistem parlementer). kecuali itu anggota -anggota dewan\\n \\nperwakilan rakyat semuanya merangkap menjadi anggota majelis permusyavvaratan \\nrakyat.\\n \\noleh karena itu, dewan perwakilan rakyat dapat senantiasa mengawasi tindakan-tindakan\\n \\npresiden dan jika dewan menganggap bahwa presiden sungguh melanggar haluan negara\\n \\nyang telah ditetapkan oleh undang-undang dasar atau\\n \\noleh majelis pennusyawaratan \\nrakyat,\\n \\nmaka majelis itu dapat diundang untuk persidangan istimewa agar supaya bisa minta\\n \\npertanggungan jawab kepada presiden.\\n \\n \\nmenteri-menteri negara bukan pengawal tinggi biasa.\\n \\n \\nmeskipun kedudukan menteri negara tergantung \\ndari pada presiden, akan tetapi mereka\\n \\nbukan pegawai tinggi biasa oleh karena menteri-menterilah yang, terutama menjalankan\\n \\nkekuasaan pemerintah (pouvoir executif) dalam praktek.\\n \\nsebagai pemimpin departemen, menteri mengetahui seluk-beluk hal-hal yang mengenai\\n \\nlingkungan pekerjaannya. berhubung dengan menteri mempunyai pengaruh besar \\nterhadap\\n \\npresiden dalam menentukan politik negara yang mengenai departemennya. memang, \\nyang\\n \\ndimaksudkan ialah, para menteri itu pmnimpin pemimpin negara.\\n \\n\\nuntuk menetapkan politik pemerintah dan koordinasi dalam pemerintahan negara, para\\n \\nmenteri bekerja bersama satu sama lain seerat-eratnya dibawah pimpinan presiden.\\n \\n \\nbab i\\n \\nbentuk dan kedaulatan negara\\n \\npasal 1\\n \\nmenetapkan bentuk negara kesatuan dan republik mengandung isi pokok pikiran \\nkedaulatan\\n \\nrakyat.\\n \\nmajelis permusyawaratan rakyat ialah penyelenggara negara yang tertinggi.\\n \\nmajelis ini diangogap sebagai penjelmaan rakyat yang memegang kedaulatan negara.\\n \\nbab ii\\n \\nmajelis permusyawaratan rakyat\\n \\npasal 2\\n \\nmaksudnya ialah supaya seluruh\\n \\nrakyat, seluruh golongan. seluruh daerah akan \\nmempunyai\\n \\nwakil dalam majelis sehingga majelis itu akan betul-betul dapat dianggap sebagai \\npenjelmaan\\n \\nrakyat.\\n \\nyang disebut \"golongan- \\ngolongan\" ialah badan-badan seperti koperasi serikat pekeria, \\ndan\\n \\nlain-lain\\n \\nbadan kolektif. aturan demikian memang sesuai dengan aliran zaman. \\nberhubung\\n \\ndengan anjuran mengadakan sistem koperasi dalam ekonomi, maka ayat ini mengingat \\nakan\\n \\nadanya golongan-golongan dalam badang badan ekonomi.\\n \\nayat 2\\n \\nbadan yang akan besar jumlahnya \\nbersidang sedikit-sedikitnya sekali dalam 5 tahun. \\nsedikitsedikitnya,\\n \\njadi kalau perlu dalam 5 tahun tentu boleh bersidang lebih dari sekali dengan\\n \\nmengadakan persidangan istimewa.\\n \\npasal 3\\n \\noleh karena maelis permusyawaratan rakyat memegang, kedaulatan negara, maka\\n \\nkekuasaannya tidak terbatas, mengingat dinamik masyarakat, sekali dalam 5 tahun \\nmajelis\\n \\nmemperhatikan segala yang terjadi dan segala aliran-aliran pada waktu itu dan \\nmenentukan\\n \\nhaluan-haluan apa yang hendaknya dipakai untuk dikemudian hari.\\n \\nbab iii\\n \\nkekuasaan pemerintahan negara\\n \\npasal 4 dan pasal 5 ayat 2\\n \\npresiden ialah kepala kekuasaan eksekutif dalam negara. untuk menjalankan undang-undang,\\n \\nia mempunyai kekuasaan untuk menetapkan peraturan pemerintah (pouvoir reglementair)\\n \\npasal 5 ayat 1\\n \\nkecuali executive power, presiden bersama -sama dengan dewan perwakilan rakyat\\n \\n\\nmenjalankan legislative power dalam negara.\\n \\npasal-pasal 6, 7, 8, 9\\n \\ntelah,jelas.\\n \\npasal-pasal 10, 11, 12, 13, 14, 15\\n \\nkekuasaan-kekuasaan presiden dalam pasal-pasal ini ialah konsekuensi dari kedudukan\\n \\npresiden sebagai kepala negara.\\n \\nbab iv\\n \\ndewan pertimbangan agung\\n \\npasal 16\\n \\ndewan ini ialah sebuah counci1 of state yang berwajib memberi pertirnbangan-pertimbangan\\n \\nkepada pemerintah. ia sebuah badan penasehat belaka.\\n \\nbab v\\n \\nkementerian negara\\n \\npasal 17\\n \\nlihatlah di atas.\\n \\nbab vi\\n \\npemerintahan daerah\\n \\npasal 18\\n \\ni. olehkarena negara indonesia itu suatu eenheidsstaat, maka indonesia tak akan \\nmempunyai\\n \\ndaerah di dalam lingkungannya yang bersifat staatjuga.\\n \\ndaerah indonesia akan dibagi dalam daerah propinsi \\ndan daerah propinsi akan dibagi \\npula\\n \\ndalam daerah yang lebih kecil.\\n \\ndi daerah-daerah yang bersifat otonom (streek dan locale rechtsgemeenschappen) atau\\n \\nbersifat daerah administrasi belaka, semuanya menurut aturan yang akan ditetapkan \\ndengan\\n \\nundang-undang.\\n \\ndi daerah-daerah yang bersifat otonom akan diadakan badan perwakilan daerah, oleh \\nkarena\\n \\ndi daerah pun pemerintahan akan bersendi atas dasar permusyawaratan.\\n \\nii. dalam territoir negara indonesia terdapat lebih kurang 250 zelfbesturende \\nlandchappen\\n \\ndan volksgetneenschappen, seperti desa di jawa dan bali, negeri di minangkabau, dusun \\ndan\\n \\nmarga di palembang dan sebagainya. daerah-daerah itu mempunyai susunan asli, dan \\noleh\\n \\nkarenanya dapat dianggap sebagai daerah yang bersifat istimewa.\\n \\nnegara republik indonesia menghormati kedudukan daerah-daerah istimewa tersebut \\ndan\\n \\nsegala peraturan negara yang mengenai daerah-daerah itu akan mengingati hak-hak asal-usul\\n \\ndaerah tersebut.\\n \\nbab vii\\n \\ndewan perwakilan rakyat\\n \\n\\npasal-pasal 19, 20, 21, dan 23\\n \\nlihatlah diatas.\\n \\ndewan ini\\n \\nharus memberi persetujuannya kepada tiap-tiap rancangan undang-undang dari\\n \\npemerintah. pun dewan mempunyai hak inisiatif untuk menetapkan undang-undang.\\n \\niii. dewan ini mempunyai juga hak begrooting pasal 23.\\n \\ndengan ini, dewan perwakilan rakyat mengontrol \\npemerintah.\\n \\nharus diperingati pula bahwa semua anggota dewan ini merangkap menjadi anggota \\nmajelis\\n \\npermusyawaratan rakyat.\\n \\npasal 22\\n \\npasal ini mengenai noodverordeningsrecht presiden. aturan sebagal ini memang perlu\\n \\ndiadakan agar supaya keselamatan negara dapat dijamin oleh pemerintah dalam keadaan\\n \\nyang genting, yang memaksa pemerintah untuk bertindak lekas dan tepat. meskipun\\n \\ndemikian, pemerintah tidak akan terlepas dari pengawasan dewan perwakilan rakyat. \\noleh\\n \\nkarena itu, peraturan pemerintah dalam pasal ini, yang kekuatannya sama dengan \\nundangundang\\n \\nharus disahkan pula oleh dewan perwakilan rakyat.\\n \\nbab viii\\n \\nhal keuangan\\n \\npasal 23 ayat 1, 2, 3, 4\\n \\nayat i memuat hak begrooting dewan perwakilan rakyat.\\n \\ncara menetapkan anggaran pendapatan dan belanja adalah suatu ukuran bagi sifat\\n \\npemerintahan negara. dalam negara yang berdasarkan fascisme, anggaran itu ditetapkan\\n \\nsemata-mata oleh pemerintah. tetapi dalam negara demokrasi atau dalam negara yang\\n \\nberdasarkan kedaulatan rakyat, seperti republik indonesia, anggaran pendapatan dan \\nbelanja\\n \\nitu ditetapkan dengan undang-undang. artinya dengan persetujuan dewan perwakilan \\nrakyat.\\n \\nbetapa caranya rakyat sebagai bangsa akan hidup dan dari mana didapatnya belanja buat\\n \\nhidup, harus ditetapkan oleh rakyat itu sendiri, dengan perantaraan dewan perwakilannya.\\n \\nrakyat menentukan nasibnya sendiri, karena itu juga cara hidupnya.\\n \\npasal 23 menyatakan bahwa dalam hal menetapkan pendapatan dan belanja, kedudukan\\n \\ndewan perwakilan rakyat lebih kuat daripada kedudukan pernerintah. ini tanda \\nkedaulatan\\n \\nrakyat.\\n \\noleh karena penetapan belanja mengenai hak rakyat untuk menentukan nasibnya sendiri,\\n \\nmaka segala tindakan yang menempatkan beban kepada rakyat, seperti pajak dan \\nlainlainnya,\\n \\nharus ditetapkan dengan undang-undang yaitu dengan persetujuan \\ndewan perwakilan\\n \\nrakyat.\\n \\njuga tentang hal macam dan harga mata uang ditetapkan dengan undang-undang. ini \\npenting\\n \\nkarena kedudukan uang itu besar pengaruhnya atas masyarakat. uang terutama adalah \\nalat\\n \\n\\npenukar dan pengukur harga. sebagai alat penukar untuk memudahkan pertukaran jual-beli\\n \\ndalam masyarakat. berhubung dengan itu perlu ada macam dan rupa uang yang \\ndiperlukan\\n \\noleh rakyat sebagai pengukur harga untuk dasar menetapkan harga masing-masing barang\\n \\nyang dipertukarkan. barang yang menjadi pengukur harga \\nitu, mestilah tetap harganya,\\n \\njangan naik turun karena keadaan uang yang tidak teratur. oleh karena itu, keadaan uang \\nitu\\n \\nharus ditetapkan dengan undang-undang.\\n \\nberhubung dengan itu, kedudukan bank indonesia yang akan mengeluarkan dan \\nmengatur\\n \\nperedaran uang kertas, ditetapkan dengan undang-undang.\\n \\nayat 5\\n \\ncara pemerintah mempergunakan uang belanja yang sudah disetujui oleh dewan \\nperwakilan\\n \\nrakyat, harus sepadan dengan keputusan tersebut. untuk memeriksa tanggung jawab\\n \\npernerintah itu perlu ada suatu badan yang terlepas dari pengaruh dan kekuasaan\\n \\npemerintah. suatu badan yang tunduk kepada pemerintah tidak dapat melakukan \\nkewajiban\\n \\nyang seberat itu. sebaliknya badan itu bukanlah pula badan yang berdiri di atas \\npemerintah.\\n \\nsebab itu kekuasaan dan kewajiban badan itu ditetapkan dengan undangundang.\\n \\nbab ix\\n \\nkekuasaan kehakiman\\n \\npasal 24 dan 25\\n \\nkekuasaan kehakiman ialah kekuasaan yang merdeka, artinya terlepas dari pengaruh\\n \\nkekuasaan pemerintah. berhubung dengan itu, harus diadakan jaminan dalam undang-undang\\n \\ntentang kedudukan para hakim.\\n \\nbab x\\n \\nwarganegara\\n \\npasal 26\\n \\nayat 1\\n \\norang-orang bangsa lain, misalnya orang peranakan belanda, peranakan tionghoa, dan\\n \\nperanakan arab yang bertempat kedudukan di indonesia, mengakui indonesia sebagai \\ntanah\\n \\naimya dan bersikap setia kepada negara, republik indonesia dapat menjadi warga \\nnegara.\\n \\nayat 2\\n \\npasal 27, 30, 31, ayat 1\\n \\ntelah jelas.\\n \\npasal-pasal ini mengenai hak-hak warga negara.\\n \\npasal 28, 29, ayat 1, 34\\n \\npasal ini mengenai kedudukan penduduk.\\n \\npasal-pasal, baik yang hanya mengenai warga negara maupun yang mengenai seluruh\\n \\npenduduk membuat hasrat bangsa indonesia untuk membangunkan negara yang bersifat\\n \\n\\ndemokratis dan yang hendak menyelenggarakan keadilan sosial dan perikemanusian.\\n \\nbab x1\\n \\nagama\\n \\npasal 29 ayat i\\n \\nayat ini menyatakan kepercayaan bangsa indonesia terhadap tuhan yang maha esa.\\n \\nbab xii\\n \\npertahanan negara\\n \\npasal 30\\n \\ntelah jelas.\\n \\nbab xiii\\n \\npendidikan\\n \\npasal 31 ayat 2\\n \\ntelah jelas.\\n \\npasal 32\\n \\nkebudayaan bangsa ialah kebudayaan yang timbul sebagai buah usaha budinya rakyat\\n \\nindonesia seluruhnya.\\n \\nkebudayaan lama dan asli yang terdapat sebagai puncak-puncak kebudayaan di \\ndaerahdaerah\\n \\ndi seluruh indonesia, terhitung sebagai kebudayaan bangsa. usaha kebudayaan harus\\n \\nmenuju kearah kemajuan adab, budaya, persatuan, dengan tidak menolak bahan-bahan \\nbaru\\n \\ndari kebudayaan asing yang dapat memperkembangkan atau memperkaya kebudayaan\\n \\nbangsa sendiri, serta mempertinggi derajat kemanusian bangsa indonesia.\\n \\nbab xiv\\n \\nkesejehteraan sosial\\n \\npasal 33\\n \\ndalam pasal 33 tercanturn dasar demokrasi, ekonomti produksi dikerjakan oleh semua, \\nuntuk\\n \\nsemua dibawah pimpinan atau penilikan anggota-anggota masya rakat. kemakmuran\\n \\nmasyarakatlah yang diutamakan, bukan kemakmuran orang-seorang. sebab itu \\nperekonmian\\n \\ndisusun sebagai usaha bersama berdasar atas asas kekeluargaan. bangun perusahaan yang\\n \\nsesuai dengan itu ialah koperasi.\\n \\nperekonomian berdasar atas demokrasi ekonomi, kemakmuran bagi semua orang! sebab \\nitu\\n \\ncabang-cabang produksi yang penting bagi negara dan yang menguasai hidup orang \\nbanyak\\n \\nharus dikuasai oleh negara. kalau tidak, tampuk produksi jatuh ketangan orang seorang \\nyang\\n \\nberkuasa dan rakyat yang banyak ditindasinya.\\n \\nhanya perusahaan yang tidak menguasai hajat hidup orang banyak boleh ada ditangan \\norangseorang.\\n \\nbumi dan air dan kekayaan alam yang terkandung dalam bumi adalah pokok pokok\\n \\nkemakmuran rakyat. sebab itu harus dikuasai oleh negara dan dipergunakan untuk \\nsebesarbesar\\n \\nkemakmuran rakyat.\\n \\n\\npasal 34\\n \\ntelah cukup jelas, lihat diatas.\\n \\nbab xv\\n \\nbendera dan bahasa\\n \\npasal 35\\n \\ntelah jelas.\\n \\npasal 36\\n \\ntelah jelas.\\n \\nd1 daerah-daerah yang mempunyai bahasa sendiri, yang dipelihara oleh rakyatnya \\ndengan\\n \\nbaik-balk (misalnya bahasa jawa, sunda, madura, dan sebagainya) bahasa-bahasa itu \\nakan\\n \\ndihormati dan dipeliharajuga oleh negara.\\n \\nbahasa-bahasa itu pun merupakan sebagian dari kebudayaan indonesia yang hidup.\\n \\nbab xvi\\n \\nperubaran undang-undang dasar\\n \\npasal 37\\n \\ntelah jelas.\\n \\n \\n \\n \\n(\\nnaskah sesuai lembaran negara republik indonesia, no. 75, 1959\\n)\\n \\n'"
            ]
          },
          "metadata": {},
          "execution_count": 8
        }
      ]
    },
    {
      "cell_type": "code",
      "metadata": {
        "colab": {
          "base_uri": "https://localhost:8080/"
        },
        "id": "SigEFjNdGoWZ",
        "outputId": "da432887-0ef3-4029-fa33-d4f1254a0cd0"
      },
      "source": [
        "# .lower() supaya teks jadi lowercase\n",
        "uud45_tokens = nltk.tokenize.word_tokenize( uud45_clean.lower() ) \n",
        "\n",
        "# Filter tanda baca dengan list comprehension\n",
        "# ambil semua kata yang termasuk alpanumerik .isalnum()\n",
        "uud45_tokens = [word for word in uud45_tokens if word.isalnum()]\n",
        "uud45_tokens[:15]"
      ],
      "execution_count": 9,
      "outputs": [
        {
          "output_type": "execute_result",
          "data": {
            "text/plain": [
              "['dasar',\n",
              " 'negara',\n",
              " 'republik',\n",
              " 'indonesia',\n",
              " '1945',\n",
              " 'pembukaan',\n",
              " 'bahwa',\n",
              " 'sesungguhnya',\n",
              " 'kemerdekaan',\n",
              " 'itu',\n",
              " 'ialah',\n",
              " 'hak',\n",
              " 'segala',\n",
              " 'bangsa',\n",
              " 'dan']"
            ]
          },
          "metadata": {},
          "execution_count": 9
        }
      ]
    },
    {
      "cell_type": "markdown",
      "metadata": {
        "id": "yirFbyLIGx2o"
      },
      "source": [
        "## Wrapper NLTK untuk melakukan analisis konteks\n",
        "Data teks yang sebelumnya sudah di tokenisasi dapat dijadikan argumen untuk membuat instance dalam wrapper nltk.text.Text().\n",
        "\n",
        "Wrapper ini dapat kita pakai untuk melakukan beragam analisis konteks dalam teks.\n",
        "\n",
        "Macam-macam analisis dapat berupa:\n",
        "\n",
        "Common Contexts: Konteks yang dipakai suatu kata.\n",
        "Similar : Kata dengan konteks yang mirip.\n",
        "Collocation: Kata-kata yang sering muncul bersamaan.\n",
        "dll."
      ]
    },
    {
      "cell_type": "code",
      "metadata": {
        "colab": {
          "base_uri": "https://localhost:8080/"
        },
        "id": "UCGehzj_GwGQ",
        "outputId": "b495f175-d408-4433-8450-fec5b47d481c"
      },
      "source": [
        "# Masukkan kumpulan kata tadi kedalam wrapper nltk.text.Text\n",
        "# Wrapper ini digunakan untuk melakukan eksplorasi pada tokens\n",
        "# yang dimasukkan.\n",
        "uud45_nltk = nltk.text.Text(uud45_tokens)\n",
        "uud45_nltk"
      ],
      "execution_count": 10,
      "outputs": [
        {
          "output_type": "execute_result",
          "data": {
            "text/plain": [
              "<Text: dasar negara republik indonesia 1945 pembukaan bahwa sesungguhnya...>"
            ]
          },
          "metadata": {},
          "execution_count": 10
        }
      ]
    },
    {
      "cell_type": "markdown",
      "metadata": {
        "id": "yOiFnSu_G4BL"
      },
      "source": [
        "## Common Contexts: Konteks yang dipakai suatu kata"
      ]
    },
    {
      "cell_type": "code",
      "metadata": {
        "colab": {
          "base_uri": "https://localhost:8080/"
        },
        "id": "fD9PI-1mG2Op",
        "outputId": "ac302724-a1f1-44c4-b70d-3f946f44c8da"
      },
      "source": [
        "# Mencari konteks suatu kata\n",
        "uud45_nltk.common_contexts([\"negara\"])"
      ],
      "execution_count": 11,
      "outputs": [
        {
          "output_type": "stream",
          "name": "stdout",
          "text": [
            "dasar_republik kemerdekaan_indonesia pemerintah_indonesia\n",
            "dasar_indonesia susunan_republik 1_indonesia ialah_kesatuan ibukota_3\n",
            "haluan_bab pemerintah_pasal dengan_lain duta_lain kementerian_pasal\n",
            "oleh_2 pemerintahan_dan keperluan_berdasarkan keuangan_selanjutnya\n",
            "keuangan_diadakan warga_pasal warga_ialah\n"
          ]
        }
      ]
    },
    {
      "cell_type": "markdown",
      "metadata": {
        "id": "k7_C4tuCG-0c"
      },
      "source": [
        "## Similar: Kata dengan konteks yang mirip"
      ]
    },
    {
      "cell_type": "code",
      "metadata": {
        "colab": {
          "base_uri": "https://localhost:8080/"
        },
        "id": "54KCFrOMG7tT",
        "outputId": "cacb4b34-f7b1-4bdf-f952-4dcc28ae1e02"
      },
      "source": [
        "# Mencari kata dengan konteks yang mirip\n",
        "uud45_nltk.similar(\"negara\")"
      ],
      "execution_count": 12,
      "outputs": [
        {
          "output_type": "stream",
          "name": "stdout",
          "text": [
            "daerah dasar indonesia bangsa dan sebab karena rakyat kebangsaan dalam\n",
            "kemanusiaan kekuasaan presiden keadaan persidangan kebudayaan\n",
            "masyarakat sedangkan lingkungannya\n"
          ]
        }
      ]
    },
    {
      "cell_type": "markdown",
      "metadata": {
        "id": "q6mS0a3SHEVI"
      },
      "source": [
        "## Concordance: Kemunculan kata beserta konteksnya"
      ]
    },
    {
      "cell_type": "code",
      "metadata": {
        "colab": {
          "base_uri": "https://localhost:8080/"
        },
        "id": "Z2cr6CDsHH3y",
        "outputId": "02e3f019-2044-44d2-b95f-f79590d5bad3"
      },
      "source": [
        "# Pencarian kata beserta konteksnya\n",
        "uud45_nltk.concordance(\"negara\")"
      ],
      "execution_count": 13,
      "outputs": [
        {
          "output_type": "stream",
          "name": "stdout",
          "text": [
            "Displaying 25 of 121 matches:\n",
            "                                    negara republik indonesia 1945 pembukaan b\n",
            " ke depan pintu gerbang kemerdekaan negara indonesia yang merdeka bersatu berd\n",
            "tu untuk membentuk suatu pemerintah negara indonesia yang melindungi segenap b\n",
            "aan indonesia itu dalam suatu dasar negara indonesia yang terbentuk dalam suat\n",
            " yang terbentuk dalam suatu susunan negara republik indonesia yang berkedaulat\n",
            "b i bentuk dan kedaulatan pasal 1 1 negara indonesia ialah negara kesatuan yan\n",
            "an pasal 1 1 negara indonesia ialah negara kesatuan yang berbentuk republik 2 \n",
            " sekali dalam lima tahun di ibukota negara 3 segala putusan majelis permusyawa\n",
            "kan dasar dan besar dari ada haluan negara bab iii kekuasaan pemerintah negara\n",
            "negara bab iii kekuasaan pemerintah negara pasal 4 1 presiden republik indones\n",
            "at perdamaian dan perjanjian dengan negara lain pasal 12 presiden menyatakan k\n",
            "dan konsul 2 presiden menerima duta negara lain pasal 14 presiden memberi gras\n",
            "kepada pemerintah bab v kementerian negara pasal 17 1 presiden dibantu oleh ne\n",
            "ra pasal 17 1 presiden dibantu oleh negara 2 itu diangkat dan diperhentikan ol\n",
            "yawaratan dalam sistem pemerintahan negara dan dalam yang bersifat istimewa ba\n",
            "lalu 2 segala pajak untuk keperluan negara berdasarkan 3 macam dan harga mata \n",
            "ng ditetapkan dengan 4 hal keuangan negara selanjutnya diatur dengan 5 untuk m\n",
            "ksa tanggung jawab tentang keuangan negara diadakan suatu badan pemeriksa keua\n",
            "hakim ditetapkan dengan bab x warga negara pasal 26 1 yang menjadi warga negar\n",
            "egara pasal 26 1 yang menjadi warga negara ialah bangsa indonesia asli dan ban\n",
            " yang disahkan dengan sebagai warga negara 2 yang mengenai kewarganegaraan dit\n",
            "pkan dengan pasal 27 1 segala warga negara bersamaan kedudukannya dalam hukum \n",
            "dengan tidak ada kecualinya 2 warga negara berhak atas pekerjaan dan penghidup\n",
            "pkan dengan bab xi agama pasal 29 1 negara berdasar atas ketuhanan yang maha e\n",
            "asar atas ketuhanan yang maha esa 2 negara menjamin kemerdekaan penduduk untuk\n"
          ]
        }
      ]
    },
    {
      "cell_type": "markdown",
      "metadata": {
        "id": "q_c-P6BFHMui"
      },
      "source": [
        "## Collocations: Kata-kata yang sering muncul bersamaan"
      ]
    },
    {
      "cell_type": "code",
      "metadata": {
        "colab": {
          "base_uri": "https://localhost:8080/"
        },
        "id": "l0vyUj-SHOsQ",
        "outputId": "f31301e2-eb00-4202-a16c-f80b895d0945"
      },
      "source": [
        "# Mencari dua kata yang sering muncul bersama\n",
        "uud45_nltk.collocations()"
      ],
      "execution_count": 14,
      "outputs": [
        {
          "output_type": "stream",
          "name": "stdout",
          "text": [
            "dewan perwakilan; perwakilan rakyat; majelis permusyawaratan;\n",
            "permusyawaratan rakyat; berdasar atas; ditetapkan dengan; oleh karena;\n",
            "republik indonesia; telah jelas; wakil presiden; warga negara;\n",
            "keadilan sosial; persetujuan dewan; maha esa; pertimbangan agung; akan\n",
            "tetapi; hanya memuat; berhubung dengan; dari pada; bertanggung jawab\n"
          ]
        }
      ]
    },
    {
      "cell_type": "markdown",
      "metadata": {
        "id": "Lb8WAqLaHUjM"
      },
      "source": [
        "## Lexical Dispersion plot: Sebaran kata dalam teks/dokumen"
      ]
    },
    {
      "cell_type": "code",
      "metadata": {
        "colab": {
          "base_uri": "https://localhost:8080/",
          "height": 295
        },
        "id": "Bw2XV_vPHTZZ",
        "outputId": "7f01fe3f-52c0-4f1f-a923-7d13a399a3ef"
      },
      "source": [
        "# Mencari tahu sebaran kata dalam teks.\n",
        "# Tiap garis menggambarkan kata\n",
        "# Tiap baris menggambarkan keseluruhan kata (dari awal sampai akhir)\n",
        "uud45_nltk.dispersion_plot([\"dasar\", \"negara\", \"presiden\", \"rakyat\", \"pasal\"])"
      ],
      "execution_count": 15,
      "outputs": [
        {
          "output_type": "display_data",
          "data": {
            "image/png": "[encoded data removed]",
            "text/plain": [
              "<Figure size 432x288 with 1 Axes>"
            ]
          },
          "metadata": {
            "needs_background": "light"
          }
        }
      ]
    },
    {
      "cell_type": "markdown",
      "metadata": {
        "id": "6b-7i9dKHZ11"
      },
      "source": [
        "## Frekuensi Kata"
      ]
    },
    {
      "cell_type": "code",
      "metadata": {
        "colab": {
          "base_uri": "https://localhost:8080/",
          "height": 324
        },
        "id": "kBLfYUOoHcGg",
        "outputId": "83bdfb79-252b-48b0-b32f-d7d1d011ac46"
      },
      "source": [
        "# UUD45 sebelum amandemen\n",
        "uud45_freq = nltk.FreqDist(uud45_tokens)\n",
        "# Tampilkan 10 kata teratas yang sering digunakan.\n",
        "uud45_freq.plot(15)"
      ],
      "execution_count": 16,
      "outputs": [
        {
          "output_type": "display_data",
          "data": {
            "image/png": "[encoded data removed]",
            "text/plain": [
              "<Figure size 432x288 with 1 Axes>"
            ]
          },
          "metadata": {
            "needs_background": "light"
          }
        }
      ]
    },
    {
      "cell_type": "markdown",
      "metadata": {
        "id": "PsQi3mLNHfU8"
      },
      "source": [
        "# 2 - Analisis Sentimen dengan Scikit-Learn"
      ]
    },
    {
      "cell_type": "markdown",
      "metadata": {
        "id": "nioZDyofHk9h"
      },
      "source": [
        "## Data Preparation\n",
        "Persiapkan dahulu data yang akan kamu gunakan, periksa apakah terdapat null values atau tidak."
      ]
    },
    {
      "cell_type": "code",
      "metadata": {
        "colab": {
          "base_uri": "https://localhost:8080/",
          "height": 589
        },
        "id": "AR__wwdBIVEw",
        "outputId": "f8fea15b-e4a8-45eb-b4d8-802a80edb643"
      },
      "source": [
        "import pandas as pd\n",
        "url='https://raw.githubusercontent.com/rakkaalhazimi/Data-NLP-Bahasa-Indonesia/main/review_hotel.csv'\n",
        "review_df = pd.read_csv(url,sep=\",\") # use sep=\",\" for coma separation. \n",
        "review_df.describe()\n",
        "review_df.info()\n",
        "review_df"
      ],
      "execution_count": 17,
      "outputs": [
        {
          "output_type": "stream",
          "name": "stdout",
          "text": [
            "<class 'pandas.core.frame.DataFrame'>\n",
            "RangeIndex: 14856 entries, 0 to 14855\n",
            "Data columns (total 3 columns):\n",
            " #   Column       Non-Null Count  Dtype \n",
            "---  ------       --------------  ----- \n",
            " 0   review_id    14856 non-null  object\n",
            " 1   review_text  14856 non-null  object\n",
            " 2   category     14856 non-null  int64 \n",
            "dtypes: int64(1), object(2)\n",
            "memory usage: 348.3+ KB\n"
          ]
        },
        {
          "output_type": "execute_result",
          "data": {
            "text/html": [
              "<div>\n",
              "<style scoped>\n",
              "    .dataframe tbody tr th:only-of-type {\n",
              "        vertical-align: middle;\n",
              "    }\n",
              "\n",
              "    .dataframe tbody tr th {\n",
              "        vertical-align: top;\n",
              "    }\n",
              "\n",
              "    .dataframe thead th {\n",
              "        text-align: right;\n",
              "    }\n",
              "</style>\n",
              "<table border=\"1\" class=\"dataframe\">\n",
              "  <thead>\n",
              "    <tr style=\"text-align: right;\">\n",
              "      <th></th>\n",
              "      <th>review_id</th>\n",
              "      <th>review_text</th>\n",
              "      <th>category</th>\n",
              "    </tr>\n",
              "  </thead>\n",
              "  <tbody>\n",
              "    <tr>\n",
              "      <th>0</th>\n",
              "      <td>0fc651bfdd38a3b4ba19ef9d0d1e92e3</td>\n",
              "      <td>Penginapannya rapi, bersih, suasana tenang, pe...</td>\n",
              "      <td>1</td>\n",
              "    </tr>\n",
              "    <tr>\n",
              "      <th>1</th>\n",
              "      <td>7d8cb2e465c5602e51c1ba8710e8ff16</td>\n",
              "      <td>wifi tidak sampai kamar, tidak tersedia heater...</td>\n",
              "      <td>0</td>\n",
              "    </tr>\n",
              "    <tr>\n",
              "      <th>2</th>\n",
              "      <td>1f4447c73e5e1aac462d05b0ecbd5a55</td>\n",
              "      <td>Lantai kamar mandi kotor, bau, dan seperti sdh...</td>\n",
              "      <td>0</td>\n",
              "    </tr>\n",
              "    <tr>\n",
              "      <th>3</th>\n",
              "      <td>b9aefbfb0debbfff43f8b268c82b43c0</td>\n",
              "      <td>Wc jorok.. Kasur tidak dibersihkan,, handuk ti...</td>\n",
              "      <td>0</td>\n",
              "    </tr>\n",
              "    <tr>\n",
              "      <th>4</th>\n",
              "      <td>e2afef18bd695fae43d4d53b8c547bd4</td>\n",
              "      <td>bocor lagi</td>\n",
              "      <td>0</td>\n",
              "    </tr>\n",
              "    <tr>\n",
              "      <th>...</th>\n",
              "      <td>...</td>\n",
              "      <td>...</td>\n",
              "      <td>...</td>\n",
              "    </tr>\n",
              "    <tr>\n",
              "      <th>14851</th>\n",
              "      <td>5ed96732e4f1e1e69dfb8669cf507587</td>\n",
              "      <td>kotor dan tidak ada wifi</td>\n",
              "      <td>0</td>\n",
              "    </tr>\n",
              "    <tr>\n",
              "      <th>14852</th>\n",
              "      <td>b0692bdf4926ee0d58c2d9a0f28b0d62</td>\n",
              "      <td>Kamar tidak bersih</td>\n",
              "      <td>0</td>\n",
              "    </tr>\n",
              "    <tr>\n",
              "      <th>14853</th>\n",
              "      <td>5217f5f284066f232d7b3c3bbd3cccd2</td>\n",
              "      <td>kamarnya terlalu kecil beberapa cm antara kasu...</td>\n",
              "      <td>0</td>\n",
              "    </tr>\n",
              "    <tr>\n",
              "      <th>14854</th>\n",
              "      <td>31ca5a04ccc0dae4eaafc91c9822bede</td>\n",
              "      <td>Wifinya sangat kurang memadai..</td>\n",
              "      <td>0</td>\n",
              "    </tr>\n",
              "    <tr>\n",
              "      <th>14855</th>\n",
              "      <td>aadb614310e5ceb79b4c68d14f8dab8a</td>\n",
              "      <td>Pelayan sangat sangat buruk. Dulu pelayan nya ...</td>\n",
              "      <td>0</td>\n",
              "    </tr>\n",
              "  </tbody>\n",
              "</table>\n",
              "<p>14856 rows × 3 columns</p>\n",
              "</div>"
            ],
            "text/plain": [
              "                              review_id  ... category\n",
              "0      0fc651bfdd38a3b4ba19ef9d0d1e92e3  ...        1\n",
              "1      7d8cb2e465c5602e51c1ba8710e8ff16  ...        0\n",
              "2      1f4447c73e5e1aac462d05b0ecbd5a55  ...        0\n",
              "3      b9aefbfb0debbfff43f8b268c82b43c0  ...        0\n",
              "4      e2afef18bd695fae43d4d53b8c547bd4  ...        0\n",
              "...                                 ...  ...      ...\n",
              "14851  5ed96732e4f1e1e69dfb8669cf507587  ...        0\n",
              "14852  b0692bdf4926ee0d58c2d9a0f28b0d62  ...        0\n",
              "14853  5217f5f284066f232d7b3c3bbd3cccd2  ...        0\n",
              "14854  31ca5a04ccc0dae4eaafc91c9822bede  ...        0\n",
              "14855  aadb614310e5ceb79b4c68d14f8dab8a  ...        0\n",
              "\n",
              "[14856 rows x 3 columns]"
            ]
          },
          "metadata": {},
          "execution_count": 17
        }
      ]
    },
    {
      "cell_type": "markdown",
      "metadata": {
        "id": "kGGdfiGWKwYn"
      },
      "source": [
        "Lalu, mulai dengan praproses teks untuk menyederhanakan teks supaya bisa lebih mudah untuk dipakai dalam analisis atau prediksi"
      ]
    },
    {
      "cell_type": "code",
      "metadata": {
        "id": "-E5s3wi6KwBH"
      },
      "source": [
        "def text_preprocessing(text):\n",
        "    # Lowercasing\n",
        "    text = text.lower()\n",
        "\n",
        "    # Punctuation Removal\n",
        "    table = text.maketrans(\"\", \"\", string.punctuation)\n",
        "    text = text.translate(table)\n",
        "\n",
        "    return text"
      ],
      "execution_count": 18,
      "outputs": []
    },
    {
      "cell_type": "code",
      "metadata": {
        "id": "vNOwEVHkK1qm"
      },
      "source": [
        "review_df[\"preprocessed_text\"] = review_df[\"review_text\"].map(text_preprocessing)"
      ],
      "execution_count": 19,
      "outputs": []
    },
    {
      "cell_type": "code",
      "metadata": {
        "colab": {
          "base_uri": "https://localhost:8080/",
          "height": 272
        },
        "id": "_ccAJRUcK3ue",
        "outputId": "7d681047-fb2b-4774-a3b8-5427dc6fcedd"
      },
      "source": [
        "review_df.head(5)"
      ],
      "execution_count": 20,
      "outputs": [
        {
          "output_type": "execute_result",
          "data": {
            "text/html": [
              "<div>\n",
              "<style scoped>\n",
              "    .dataframe tbody tr th:only-of-type {\n",
              "        vertical-align: middle;\n",
              "    }\n",
              "\n",
              "    .dataframe tbody tr th {\n",
              "        vertical-align: top;\n",
              "    }\n",
              "\n",
              "    .dataframe thead th {\n",
              "        text-align: right;\n",
              "    }\n",
              "</style>\n",
              "<table border=\"1\" class=\"dataframe\">\n",
              "  <thead>\n",
              "    <tr style=\"text-align: right;\">\n",
              "      <th></th>\n",
              "      <th>review_id</th>\n",
              "      <th>review_text</th>\n",
              "      <th>category</th>\n",
              "      <th>preprocessed_text</th>\n",
              "    </tr>\n",
              "  </thead>\n",
              "  <tbody>\n",
              "    <tr>\n",
              "      <th>0</th>\n",
              "      <td>0fc651bfdd38a3b4ba19ef9d0d1e92e3</td>\n",
              "      <td>Penginapannya rapi, bersih, suasana tenang, pe...</td>\n",
              "      <td>1</td>\n",
              "      <td>penginapannya rapi bersih suasana tenang pelay...</td>\n",
              "    </tr>\n",
              "    <tr>\n",
              "      <th>1</th>\n",
              "      <td>7d8cb2e465c5602e51c1ba8710e8ff16</td>\n",
              "      <td>wifi tidak sampai kamar, tidak tersedia heater...</td>\n",
              "      <td>0</td>\n",
              "      <td>wifi tidak sampai kamar tidak tersedia heater ...</td>\n",
              "    </tr>\n",
              "    <tr>\n",
              "      <th>2</th>\n",
              "      <td>1f4447c73e5e1aac462d05b0ecbd5a55</td>\n",
              "      <td>Lantai kamar mandi kotor, bau, dan seperti sdh...</td>\n",
              "      <td>0</td>\n",
              "      <td>lantai kamar mandi kotor bau dan seperti sdh j...</td>\n",
              "    </tr>\n",
              "    <tr>\n",
              "      <th>3</th>\n",
              "      <td>b9aefbfb0debbfff43f8b268c82b43c0</td>\n",
              "      <td>Wc jorok.. Kasur tidak dibersihkan,, handuk ti...</td>\n",
              "      <td>0</td>\n",
              "      <td>wc jorok kasur tidak dibersihkan handuk tidak ...</td>\n",
              "    </tr>\n",
              "    <tr>\n",
              "      <th>4</th>\n",
              "      <td>e2afef18bd695fae43d4d53b8c547bd4</td>\n",
              "      <td>bocor lagi</td>\n",
              "      <td>0</td>\n",
              "      <td>bocor lagi</td>\n",
              "    </tr>\n",
              "  </tbody>\n",
              "</table>\n",
              "</div>"
            ],
            "text/plain": [
              "                          review_id  ...                                  preprocessed_text\n",
              "0  0fc651bfdd38a3b4ba19ef9d0d1e92e3  ...  penginapannya rapi bersih suasana tenang pelay...\n",
              "1  7d8cb2e465c5602e51c1ba8710e8ff16  ...  wifi tidak sampai kamar tidak tersedia heater ...\n",
              "2  1f4447c73e5e1aac462d05b0ecbd5a55  ...  lantai kamar mandi kotor bau dan seperti sdh j...\n",
              "3  b9aefbfb0debbfff43f8b268c82b43c0  ...  wc jorok kasur tidak dibersihkan handuk tidak ...\n",
              "4  e2afef18bd695fae43d4d53b8c547bd4  ...                                         bocor lagi\n",
              "\n",
              "[5 rows x 4 columns]"
            ]
          },
          "metadata": {},
          "execution_count": 20
        }
      ]
    },
    {
      "cell_type": "code",
      "metadata": {
        "colab": {
          "base_uri": "https://localhost:8080/"
        },
        "id": "iPxb6De1K6e1",
        "outputId": "c46a3f00-ddeb-4a4e-d1c2-a2c9639503dc"
      },
      "source": [
        "# Cek Kategori Data\n",
        "review_df[\"category\"].value_counts()"
      ],
      "execution_count": 21,
      "outputs": [
        {
          "output_type": "execute_result",
          "data": {
            "text/plain": [
              "0    12839\n",
              "1     2017\n",
              "Name: category, dtype: int64"
            ]
          },
          "metadata": {},
          "execution_count": 21
        }
      ]
    },
    {
      "cell_type": "markdown",
      "metadata": {
        "id": "9O6jzJRiK0r4"
      },
      "source": [
        "## Representasi Teks\n",
        "Teks yang sudah bersih tadinya akan diubah ke bentuk yang bisa dicerna oleh komputer"
      ]
    },
    {
      "cell_type": "code",
      "metadata": {
        "colab": {
          "base_uri": "https://localhost:8080/"
        },
        "id": "N00l8uPkK_ZW",
        "outputId": "0f476b78-cf05-481d-9ff2-c25e710cb3e6"
      },
      "source": [
        "review_text = review_df[\"preprocessed_text\"].values\n",
        "vect = CountVectorizer()\n",
        "\n",
        "# Gunakan kode ini jika ingin melakukan stopwords removal\n",
        "# vect = CountVectorizer(stop_words=stops)\n",
        "\n",
        "# Membuat BoW \n",
        "vect.fit(review_text)\n",
        "bow = vect.transform(review_text)\n",
        "\n",
        "bow"
      ],
      "execution_count": 22,
      "outputs": [
        {
          "output_type": "execute_result",
          "data": {
            "text/plain": [
              "<14856x16898 sparse matrix of type '<class 'numpy.int64'>'\n",
              "\twith 214617 stored elements in Compressed Sparse Row format>"
            ]
          },
          "metadata": {},
          "execution_count": 22
        }
      ]
    },
    {
      "cell_type": "code",
      "metadata": {
        "colab": {
          "base_uri": "https://localhost:8080/"
        },
        "id": "Prz3KafALDTU",
        "outputId": "6ff85186-857d-4864-b266-ebc2ea40bb23"
      },
      "source": [
        "bow.toarray()"
      ],
      "execution_count": 23,
      "outputs": [
        {
          "output_type": "execute_result",
          "data": {
            "text/plain": [
              "array([[0, 0, 0, ..., 0, 0, 0],\n",
              "       [0, 0, 0, ..., 0, 0, 0],\n",
              "       [0, 0, 0, ..., 0, 0, 0],\n",
              "       ...,\n",
              "       [0, 0, 0, ..., 0, 0, 0],\n",
              "       [0, 0, 0, ..., 0, 0, 0],\n",
              "       [0, 0, 0, ..., 0, 0, 0]])"
            ]
          },
          "metadata": {},
          "execution_count": 23
        }
      ]
    },
    {
      "cell_type": "markdown",
      "metadata": {
        "id": "9nnGQzxdLG22"
      },
      "source": [
        "## Menentukan Input dan Output Data"
      ]
    },
    {
      "cell_type": "code",
      "metadata": {
        "id": "Mx08P0LBLIT2"
      },
      "source": [
        "# Data utuh\n",
        "X_full, y_full = bow, review_df[\"category\"].values\n",
        "\n",
        "# Data yang terpisah: train dan test\n",
        "X_train, X_test, y_train, y_test = train_test_split(X_full, y_full)"
      ],
      "execution_count": 24,
      "outputs": []
    },
    {
      "cell_type": "markdown",
      "metadata": {
        "id": "FXA8TvaaLaYf"
      },
      "source": [
        "## Pemodelan Machine Learning"
      ]
    },
    {
      "cell_type": "code",
      "metadata": {
        "colab": {
          "base_uri": "https://localhost:8080/"
        },
        "id": "QeuhU_g1Lc5e",
        "outputId": "a3f38c50-130d-4732-b6e1-bf0289505bf4"
      },
      "source": [
        "# Fit data train ke dalam model\n",
        "logres = LogisticRegression()\n",
        "logres.fit(X_train, y_train)"
      ],
      "execution_count": 25,
      "outputs": [
        {
          "output_type": "execute_result",
          "data": {
            "text/plain": [
              "LogisticRegression(C=1.0, class_weight=None, dual=False, fit_intercept=True,\n",
              "                   intercept_scaling=1, l1_ratio=None, max_iter=100,\n",
              "                   multi_class='auto', n_jobs=None, penalty='l2',\n",
              "                   random_state=None, solver='lbfgs', tol=0.0001, verbose=0,\n",
              "                   warm_start=False)"
            ]
          },
          "metadata": {},
          "execution_count": 25
        }
      ]
    },
    {
      "cell_type": "code",
      "metadata": {
        "colab": {
          "base_uri": "https://localhost:8080/"
        },
        "id": "THuF_k2mLf9V",
        "outputId": "03599564-0287-4d7e-8e1c-481f4b53474d"
      },
      "source": [
        "# Cek skor akurasi\n",
        "logres.score(X_test, y_test)"
      ],
      "execution_count": 26,
      "outputs": [
        {
          "output_type": "execute_result",
          "data": {
            "text/plain": [
              "0.9388799138395261"
            ]
          },
          "metadata": {},
          "execution_count": 26
        }
      ]
    },
    {
      "cell_type": "markdown",
      "metadata": {
        "id": "rhnbW7DELchg"
      },
      "source": [
        "Jika akurasinya bagus, maka model ini akan kita pakai dan akan kita fit dengan data yang penuh."
      ]
    },
    {
      "cell_type": "code",
      "metadata": {
        "colab": {
          "base_uri": "https://localhost:8080/"
        },
        "id": "valgjawFLjmO",
        "outputId": "b72ebbc6-785b-4b62-ced8-ffabc3ef1565"
      },
      "source": [
        "logres.fit(X_full, y_full)"
      ],
      "execution_count": 27,
      "outputs": [
        {
          "output_type": "execute_result",
          "data": {
            "text/plain": [
              "LogisticRegression(C=1.0, class_weight=None, dual=False, fit_intercept=True,\n",
              "                   intercept_scaling=1, l1_ratio=None, max_iter=100,\n",
              "                   multi_class='auto', n_jobs=None, penalty='l2',\n",
              "                   random_state=None, solver='lbfgs', tol=0.0001, verbose=0,\n",
              "                   warm_start=False)"
            ]
          },
          "metadata": {},
          "execution_count": 27
        }
      ]
    },
    {
      "cell_type": "markdown",
      "metadata": {
        "id": "6801nXt3LpgV"
      },
      "source": [
        "## Prediksi"
      ]
    },
    {
      "cell_type": "code",
      "metadata": {
        "colab": {
          "base_uri": "https://localhost:8080/"
        },
        "id": "VqkQ63SRLqlP",
        "outputId": "e3247b7c-7c8e-4544-e495-825de8118d44"
      },
      "source": [
        "# Prediksi review pelanggan\n",
        "contoh_review = [\"tempatnya kurang nyaman\"]\n",
        "contoh_bow = vect.transform(contoh_review)\n",
        "\n",
        "# Akan muncul 0 jika sentimen negatif\n",
        "#      muncul 1 jika sentimen positif\n",
        "\n",
        "# Jika hasilnya kurang tepat, teman-teman bisa coba\n",
        "# menggunakan stopwords dalam prosesnya.\n",
        "logres.predict(contoh_bow)"
      ],
      "execution_count": 28,
      "outputs": [
        {
          "output_type": "execute_result",
          "data": {
            "text/plain": [
              "array([0])"
            ]
          },
          "metadata": {},
          "execution_count": 28
        }
      ]
    },
    {
      "cell_type": "markdown",
      "metadata": {
        "id": "LIP4QS7LLve8"
      },
      "source": [
        "## Membuat Interface\n",
        "Kita bisa membuat interface untuk aplikasi NLP dengan menggunakan Gradio ML, sebuah library untuk membuat UI yang bisa disesuaikan dengan aplikasi yang kamu buat. Gradio ML ini bisa menjalankan code machine learning kamu supaya orang lain juga bisa mencobanya.\n",
        "\n",
        "Cek disini untuk lebih jelasnya: https://gradio.app/"
      ]
    },
    {
      "cell_type": "code",
      "metadata": {
        "id": "Hmx77gF2LxQF"
      },
      "source": [
        "# Kita perlu memberikan keterangan pada label 0 dan 1\n",
        "sentiment_map = {0: \"Negative\", 1: \"Positive\"}"
      ],
      "execution_count": 29,
      "outputs": []
    },
    {
      "cell_type": "code",
      "metadata": {
        "colab": {
          "base_uri": "https://localhost:8080/",
          "height": 35
        },
        "id": "extNn-HOL2W5",
        "outputId": "f5011af4-82fd-4db2-dc9a-ae2ff3944eb4"
      },
      "source": [
        "# Buat fungsi utama yang akan dijalankan\n",
        "def predict_sentiment(review):\n",
        "\n",
        "    review_cleaned = text_preprocessing(review)\n",
        "    review_representation = vect.transform([review_cleaned])\n",
        "\n",
        "    prediction = int( logres.predict(review_representation) )\n",
        "    sentiment = sentiment_map.get(prediction)\n",
        "\n",
        "    return sentiment\n",
        "\n",
        "predict_sentiment(\"aku tidak suka\")"
      ],
      "execution_count": 30,
      "outputs": [
        {
          "output_type": "execute_result",
          "data": {
            "application/vnd.google.colaboratory.intrinsic+json": {
              "type": "string"
            },
            "text/plain": [
              "'Negative'"
            ]
          },
          "metadata": {},
          "execution_count": 30
        }
      ]
    },
    {
      "cell_type": "code",
      "metadata": {
        "colab": {
          "base_uri": "https://localhost:8080/",
          "height": 640
        },
        "id": "FgOrp3uML43n",
        "outputId": "e932a465-a7a8-47fd-e1a2-6d029190ac4f"
      },
      "source": [
        "# Pembuatan Interface bisa dilakukan dengan memasukkan\n",
        "# tiga keyword argumens pada class gr.Interface\n",
        "# yaitu fn, inputs, dan outputs\n",
        "\n",
        "iface = gr.Interface(\n",
        "    fn=predict_sentiment, \n",
        "    inputs=gr.inputs.Textbox(lines=2, placeholder=\"Your reviews about this place\"), \n",
        "    outputs=\"text\")\n",
        "iface.launch()"
      ],
      "execution_count": 31,
      "outputs": [
        {
          "output_type": "stream",
          "name": "stdout",
          "text": [
            "Colab notebook detected. To show errors in colab notebook, set `debug=True` in `launch()`\n",
            "This share link will expire in 24 hours. If you need a permanent link, visit: https://gradio.app/introducing-hosted (NEW!)\n",
            "Running on External URL: https://59265.gradio.app\n",
            "Interface loading below...\n"
          ]
        },
        {
          "output_type": "display_data",
          "data": {
            "text/html": [
              "\n",
              "        <iframe\n",
              "            width=\"900\"\n",
              "            height=\"500\"\n",
              "            src=\"https://59265.gradio.app\"\n",
              "            frameborder=\"0\"\n",
              "            allowfullscreen\n",
              "        ></iframe>\n",
              "        "
            ],
            "text/plain": [
              "<IPython.lib.display.IFrame at 0x7f7c41149610>"
            ]
          },
          "metadata": {}
        },
        {
          "output_type": "execute_result",
          "data": {
            "text/plain": [
              "(<Flask 'gradio.networking'>,\n",
              " 'http://127.0.0.1:7860/',\n",
              " 'https://59265.gradio.app')"
            ]
          },
          "metadata": {},
          "execution_count": 31
        }
      ]
    },
    {
      "cell_type": "markdown",
      "metadata": {
        "id": "pB8spOzdL_sl"
      },
      "source": [
        "# 3 - Analisis Sentimen dengan Deep Learning\n",
        "Metode deep learning merupakan versi rumit dari model machine learning biasa. Kata \"Deep\" disini bukan berarti"
      ]
    },
    {
      "cell_type": "code",
      "metadata": {
        "id": "ys9yxVW6MA4N"
      },
      "source": [
        "# Buat variabel untuk label\n",
        "category = review_df[\"category\"]"
      ],
      "execution_count": 32,
      "outputs": []
    },
    {
      "cell_type": "markdown",
      "metadata": {
        "id": "Oh7_QGYNMH4c"
      },
      "source": [
        "## Tentukan Parameter"
      ]
    },
    {
      "cell_type": "code",
      "metadata": {
        "id": "OCNNMZOCMI7t"
      },
      "source": [
        "max_features = 10000      # Jumlah kosakata\n",
        "embedding_dim = 64        # Jumlah dimensi dalam word embedding\n",
        "sequence_length = 100     # Maksimal panjang kalimat"
      ],
      "execution_count": 33,
      "outputs": []
    },
    {
      "cell_type": "markdown",
      "metadata": {
        "id": "Yt8fNFqBMMtV"
      },
      "source": [
        "## Ubah teks ke data timeseries/berurutan\n",
        "Neural network memerlukan data yang berbentuk tensor, tensor adalah wadah untuk menyimpan data. Jika kamu kenal yang namanya matriks, maka itu adalah tensor 2 dimensi. Bisa dikatakan kalau tensor adalah bentuk umum dari matriks yang dapat terdiri dari berbagai dimensi (0, 1, 2, 3, dst.).\n",
        "\n",
        "Disini teks akan diubah ke tensor 3D (batch, length, features), tensor 3D terbentuk dari kumpulan tensor 2D, begitu juga seterusnya."
      ]
    },
    {
      "cell_type": "code",
      "metadata": {
        "colab": {
          "base_uri": "https://localhost:8080/"
        },
        "id": "wEYTC1LlMN_b",
        "outputId": "2b60f888-7134-47bb-ed9f-cf93301a2f02"
      },
      "source": [
        "token = Tokenizer(num_words=max_features)  \n",
        "token.fit_on_texts(review_text)\n",
        "\n",
        "def text_to_sequence(texts):\n",
        "    # Ubah ke data berurutan\n",
        "    review_sequences = token.texts_to_sequences(texts)\n",
        "\n",
        "    # Samakan panjang kalimatnya\n",
        "    review_sequences = pad_sequences(review_sequences, maxlen=sequence_length, padding=\"post\")\n",
        "\n",
        "    return review_sequences  \n",
        "\n",
        "review_sequences = text_to_sequence(review_text)\n",
        "\n",
        "review_sequences # Masih (batch, length), dimensi yang terakhir nanti akan dibuat dalam proses modeling"
      ],
      "execution_count": 34,
      "outputs": [
        {
          "output_type": "execute_result",
          "data": {
            "text/plain": [
              "array([[1158,  345,   13, ...,    0,    0,    0],\n",
              "       [  41,    2,  112, ...,    0,    0,    0],\n",
              "       [  72,    1,    8, ...,    0,    0,    0],\n",
              "       ...,\n",
              "       [  36,   97,   60, ...,    0,    0,    0],\n",
              "       [ 449,   15,    6, ...,    0,    0,    0],\n",
              "       [ 441,   15,   15, ...,    0,    0,    0]], dtype=int32)"
            ]
          },
          "metadata": {},
          "execution_count": 34
        }
      ]
    },
    {
      "cell_type": "markdown",
      "metadata": {
        "id": "8_8xu-HUMSUP"
      },
      "source": [
        "Tips: Pembatasan jumlah kosakata biasa dilakukan untuk menghilangkan kata-kata yang jarang dipakai."
      ]
    },
    {
      "cell_type": "markdown",
      "metadata": {
        "id": "tdr_mehNMUZ-"
      },
      "source": [
        "## Membuat Model"
      ]
    },
    {
      "cell_type": "code",
      "metadata": {
        "id": "2hXF2BeDMTBv"
      },
      "source": [
        "model = keras.Sequential()\n",
        "\n",
        "# Tentukan ukuran input data\n",
        "model.add( keras.Input(shape=(sequence_length,), dtype=\"int64\") )\n",
        "\n",
        "# Buat layer embedding untuk mengubah representasi kosakata menjadi vektor n-dimensi\n",
        "model.add( keras.layers.Embedding(max_features, embedding_dim))\n",
        "\n",
        "# Buat layer LSTM untuk mencari representasi yang berguna dalam data\n",
        "# dengan mempertimbangkan urutan kata\n",
        "model.add( keras.layers.LSTM(32) )\n",
        "\n",
        "# Buat layer terakhir yang akan menentukan output dari model\n",
        "model.add( keras.layers.Dense(1, activation=\"sigmoid\") )\n",
        "\n",
        "# Tentukan loss, optimizer dan metrik yang akan digunakan\n",
        "model.compile(loss=\"binary_crossentropy\", \n",
        "              optimizer=\"adam\",\n",
        "              metrics=[\"acc\"])"
      ],
      "execution_count": 35,
      "outputs": []
    },
    {
      "cell_type": "code",
      "metadata": {
        "colab": {
          "base_uri": "https://localhost:8080/"
        },
        "id": "qH4Dax7RMZ2k",
        "outputId": "2088ed88-6ca7-47ff-b15f-eab5207d3671"
      },
      "source": [
        "# Melihat arsitektur model\n",
        "model.summary()"
      ],
      "execution_count": 36,
      "outputs": [
        {
          "output_type": "stream",
          "name": "stdout",
          "text": [
            "Model: \"sequential\"\n",
            "_________________________________________________________________\n",
            "Layer (type)                 Output Shape              Param #   \n",
            "=================================================================\n",
            "embedding (Embedding)        (None, 100, 64)           640000    \n",
            "_________________________________________________________________\n",
            "lstm (LSTM)                  (None, 32)                12416     \n",
            "_________________________________________________________________\n",
            "dense (Dense)                (None, 1)                 33        \n",
            "=================================================================\n",
            "Total params: 652,449\n",
            "Trainable params: 652,449\n",
            "Non-trainable params: 0\n",
            "_________________________________________________________________\n"
          ]
        }
      ]
    },
    {
      "cell_type": "code",
      "metadata": {
        "colab": {
          "base_uri": "https://localhost:8080/",
          "height": 369
        },
        "id": "_DG3GfXWMcc4",
        "outputId": "647d8dce-2ef0-475f-f300-bc3cd293383f"
      },
      "source": [
        "# Melihat Diagram Model\n",
        "keras.utils.vis_utils.plot_model(model, \"model.png\")"
      ],
      "execution_count": 37,
      "outputs": [
        {
          "output_type": "execute_result",
          "data": {
            "image/png": "[encoded data removed]",
            "text/plain": [
              "<IPython.core.display.Image object>"
            ]
          },
          "metadata": {},
          "execution_count": 37
        }
      ]
    },
    {
      "cell_type": "markdown",
      "metadata": {
        "id": "JX00l-ovMhA6"
      },
      "source": [
        "## Melatih Model"
      ]
    },
    {
      "cell_type": "code",
      "metadata": {
        "colab": {
          "base_uri": "https://localhost:8080/"
        },
        "id": "QUoDiC0TMh-N",
        "outputId": "5244fde8-9e36-4809-f64a-c4b7ecbdd234"
      },
      "source": [
        "model.fit(x=review_sequences, \n",
        "          y=category,\n",
        "          batch_size=32,\n",
        "          epochs=1,\n",
        "          validation_split=0.2)"
      ],
      "execution_count": 38,
      "outputs": [
        {
          "output_type": "stream",
          "name": "stdout",
          "text": [
            "372/372 [==============================] - 23s 57ms/step - loss: 0.4179 - acc: 0.8568 - val_loss: 0.3764 - val_acc: 0.8758\n"
          ]
        },
        {
          "output_type": "execute_result",
          "data": {
            "text/plain": [
              "<keras.callbacks.History at 0x7f7c3f5c1910>"
            ]
          },
          "metadata": {},
          "execution_count": 38
        }
      ]
    },
    {
      "cell_type": "markdown",
      "metadata": {
        "id": "MntryrwLN5on"
      },
      "source": [
        "## Prediksi"
      ]
    },
    {
      "cell_type": "code",
      "metadata": {
        "colab": {
          "base_uri": "https://localhost:8080/"
        },
        "id": "4sD7opPlN7DU",
        "outputId": "070d2654-b01c-46a4-bcae-bf2d5700b467"
      },
      "source": [
        "contoh_review = [\"kasur belum diganti, bau sekali\"]\n",
        "\n",
        "contoh_urutan = text_to_sequence(contoh_review)\n",
        "\n",
        "prediksi = model.predict(contoh_urutan) # Probabilitas\n",
        "\n",
        "prediksi.squeeze()  # diatas 0.5 berarti label 1 atau sentimen negatif, begitu juga sebaliknya"
      ],
      "execution_count": 39,
      "outputs": [
        {
          "output_type": "execute_result",
          "data": {
            "text/plain": [
              "array(0.1434491, dtype=float32)"
            ]
          },
          "metadata": {},
          "execution_count": 39
        }
      ]
    },
    {
      "cell_type": "code",
      "metadata": {
        "colab": {
          "base_uri": "https://localhost:8080/"
        },
        "id": "Zfeurx64GAqk",
        "outputId": "a9222a6e-7828-4193-8ce7-df796f48bc18"
      },
      "source": [
        "prediksi"
      ],
      "execution_count": null,
      "outputs": [
        {
          "output_type": "execute_result",
          "data": {
            "text/plain": [
              "array([[0.1223202]], dtype=float32)"
            ]
          },
          "metadata": {},
          "execution_count": 59
        }
      ]
    },
    {
      "cell_type": "markdown",
      "metadata": {
        "id": "lG1NQUqkN_tf"
      },
      "source": [
        "# 4 - spaCy: Library NLP lanjutan untuk berbagai task NLP\n",
        "spaCY menyediakan berbagai layanan text processing seperti tagging, parsing, NER, text classification dll. dengan pre-trained model yang sudah dalam tahap state of art (level tinggi).\n",
        "\n",
        "Lebih jelasnya bisa di klik disini"
      ]
    },
    {
      "cell_type": "markdown",
      "metadata": {
        "id": "U1c9AOBZOCxT"
      },
      "source": [
        "## POS Tagging\n",
        "Proses menandai kata dalam teks berdasarkan peran/kelas sintaktik sebuah kata dalam corpus. Biasanya, proses penandaan ini harus disesuaikan dengan definisi dan konteks dalam kalimat."
      ]
    },
    {
      "cell_type": "code",
      "metadata": {
        "colab": {
          "base_uri": "https://localhost:8080/",
          "height": 353
        },
        "id": "eedM5iFyOECl",
        "outputId": "98fc62ec-e34f-4a5c-bb25-c602e14e6da5"
      },
      "source": [
        "nlp = spacy.load(\"en_core_web_sm\")\n",
        "doc_dep = nlp(\"Databangalore Bootcamp is good for learning data science in Indonesia\")\n",
        "\n",
        "displacy.render(doc_dep, style=\"dep\", jupyter=True)"
      ],
      "execution_count": 40,
      "outputs": [
        {
          "output_type": "display_data",
          "data": {
            "text/html": [
              "<span class=\"tex2jax_ignore\"><svg xmlns=\"http://www.w3.org/2000/svg\" xmlns:xlink=\"http://www.w3.org/1999/xlink\" xml:lang=\"en\" id=\"4069e971275f4ce98809eac2247dad9f-0\" class=\"displacy\" width=\"1800\" height=\"312.0\" direction=\"ltr\" style=\"max-width: none; height: 312.0px; color: #000000; background: #ffffff; font-family: Arial; direction: ltr\">\n",
              "<text class=\"displacy-token\" fill=\"currentColor\" text-anchor=\"middle\" y=\"222.0\">\n",
              "    <tspan class=\"displacy-word\" fill=\"currentColor\" x=\"50\">Databangalore</tspan>\n",
              "    <tspan class=\"displacy-tag\" dy=\"2em\" fill=\"currentColor\" x=\"50\">PROPN</tspan>\n",
              "</text>\n",
              "\n",
              "<text class=\"displacy-token\" fill=\"currentColor\" text-anchor=\"middle\" y=\"222.0\">\n",
              "    <tspan class=\"displacy-word\" fill=\"currentColor\" x=\"225\">Bootcamp</tspan>\n",
              "    <tspan class=\"displacy-tag\" dy=\"2em\" fill=\"currentColor\" x=\"225\">PROPN</tspan>\n",
              "</text>\n",
              "\n",
              "<text class=\"displacy-token\" fill=\"currentColor\" text-anchor=\"middle\" y=\"222.0\">\n",
              "    <tspan class=\"displacy-word\" fill=\"currentColor\" x=\"400\">is</tspan>\n",
              "    <tspan class=\"displacy-tag\" dy=\"2em\" fill=\"currentColor\" x=\"400\">AUX</tspan>\n",
              "</text>\n",
              "\n",
              "<text class=\"displacy-token\" fill=\"currentColor\" text-anchor=\"middle\" y=\"222.0\">\n",
              "    <tspan class=\"displacy-word\" fill=\"currentColor\" x=\"575\">good</tspan>\n",
              "    <tspan class=\"displacy-tag\" dy=\"2em\" fill=\"currentColor\" x=\"575\">ADJ</tspan>\n",
              "</text>\n",
              "\n",
              "<text class=\"displacy-token\" fill=\"currentColor\" text-anchor=\"middle\" y=\"222.0\">\n",
              "    <tspan class=\"displacy-word\" fill=\"currentColor\" x=\"750\">for</tspan>\n",
              "    <tspan class=\"displacy-tag\" dy=\"2em\" fill=\"currentColor\" x=\"750\">ADP</tspan>\n",
              "</text>\n",
              "\n",
              "<text class=\"displacy-token\" fill=\"currentColor\" text-anchor=\"middle\" y=\"222.0\">\n",
              "    <tspan class=\"displacy-word\" fill=\"currentColor\" x=\"925\">learning</tspan>\n",
              "    <tspan class=\"displacy-tag\" dy=\"2em\" fill=\"currentColor\" x=\"925\">VERB</tspan>\n",
              "</text>\n",
              "\n",
              "<text class=\"displacy-token\" fill=\"currentColor\" text-anchor=\"middle\" y=\"222.0\">\n",
              "    <tspan class=\"displacy-word\" fill=\"currentColor\" x=\"1100\">data</tspan>\n",
              "    <tspan class=\"displacy-tag\" dy=\"2em\" fill=\"currentColor\" x=\"1100\">NOUN</tspan>\n",
              "</text>\n",
              "\n",
              "<text class=\"displacy-token\" fill=\"currentColor\" text-anchor=\"middle\" y=\"222.0\">\n",
              "    <tspan class=\"displacy-word\" fill=\"currentColor\" x=\"1275\">science</tspan>\n",
              "    <tspan class=\"displacy-tag\" dy=\"2em\" fill=\"currentColor\" x=\"1275\">NOUN</tspan>\n",
              "</text>\n",
              "\n",
              "<text class=\"displacy-token\" fill=\"currentColor\" text-anchor=\"middle\" y=\"222.0\">\n",
              "    <tspan class=\"displacy-word\" fill=\"currentColor\" x=\"1450\">in</tspan>\n",
              "    <tspan class=\"displacy-tag\" dy=\"2em\" fill=\"currentColor\" x=\"1450\">ADP</tspan>\n",
              "</text>\n",
              "\n",
              "<text class=\"displacy-token\" fill=\"currentColor\" text-anchor=\"middle\" y=\"222.0\">\n",
              "    <tspan class=\"displacy-word\" fill=\"currentColor\" x=\"1625\">Indonesia</tspan>\n",
              "    <tspan class=\"displacy-tag\" dy=\"2em\" fill=\"currentColor\" x=\"1625\">PROPN</tspan>\n",
              "</text>\n",
              "\n",
              "<g class=\"displacy-arrow\">\n",
              "    <path class=\"displacy-arc\" id=\"arrow-4069e971275f4ce98809eac2247dad9f-0-0\" stroke-width=\"2px\" d=\"M70,177.0 C70,89.5 220.0,89.5 220.0,177.0\" fill=\"none\" stroke=\"currentColor\"/>\n",
              "    <text dy=\"1.25em\" style=\"font-size: 0.8em; letter-spacing: 1px\">\n",
              "        <textPath xlink:href=\"#arrow-4069e971275f4ce98809eac2247dad9f-0-0\" class=\"displacy-label\" startOffset=\"50%\" side=\"left\" fill=\"currentColor\" text-anchor=\"middle\">compound</textPath>\n",
              "    </text>\n",
              "    <path class=\"displacy-arrowhead\" d=\"M70,179.0 L62,167.0 78,167.0\" fill=\"currentColor\"/>\n",
              "</g>\n",
              "\n",
              "<g class=\"displacy-arrow\">\n",
              "    <path class=\"displacy-arc\" id=\"arrow-4069e971275f4ce98809eac2247dad9f-0-1\" stroke-width=\"2px\" d=\"M245,177.0 C245,89.5 395.0,89.5 395.0,177.0\" fill=\"none\" stroke=\"currentColor\"/>\n",
              "    <text dy=\"1.25em\" style=\"font-size: 0.8em; letter-spacing: 1px\">\n",
              "        <textPath xlink:href=\"#arrow-4069e971275f4ce98809eac2247dad9f-0-1\" class=\"displacy-label\" startOffset=\"50%\" side=\"left\" fill=\"currentColor\" text-anchor=\"middle\">nsubj</textPath>\n",
              "    </text>\n",
              "    <path class=\"displacy-arrowhead\" d=\"M245,179.0 L237,167.0 253,167.0\" fill=\"currentColor\"/>\n",
              "</g>\n",
              "\n",
              "<g class=\"displacy-arrow\">\n",
              "    <path class=\"displacy-arc\" id=\"arrow-4069e971275f4ce98809eac2247dad9f-0-2\" stroke-width=\"2px\" d=\"M420,177.0 C420,89.5 570.0,89.5 570.0,177.0\" fill=\"none\" stroke=\"currentColor\"/>\n",
              "    <text dy=\"1.25em\" style=\"font-size: 0.8em; letter-spacing: 1px\">\n",
              "        <textPath xlink:href=\"#arrow-4069e971275f4ce98809eac2247dad9f-0-2\" class=\"displacy-label\" startOffset=\"50%\" side=\"left\" fill=\"currentColor\" text-anchor=\"middle\">acomp</textPath>\n",
              "    </text>\n",
              "    <path class=\"displacy-arrowhead\" d=\"M570.0,179.0 L578.0,167.0 562.0,167.0\" fill=\"currentColor\"/>\n",
              "</g>\n",
              "\n",
              "<g class=\"displacy-arrow\">\n",
              "    <path class=\"displacy-arc\" id=\"arrow-4069e971275f4ce98809eac2247dad9f-0-3\" stroke-width=\"2px\" d=\"M595,177.0 C595,89.5 745.0,89.5 745.0,177.0\" fill=\"none\" stroke=\"currentColor\"/>\n",
              "    <text dy=\"1.25em\" style=\"font-size: 0.8em; letter-spacing: 1px\">\n",
              "        <textPath xlink:href=\"#arrow-4069e971275f4ce98809eac2247dad9f-0-3\" class=\"displacy-label\" startOffset=\"50%\" side=\"left\" fill=\"currentColor\" text-anchor=\"middle\">prep</textPath>\n",
              "    </text>\n",
              "    <path class=\"displacy-arrowhead\" d=\"M745.0,179.0 L753.0,167.0 737.0,167.0\" fill=\"currentColor\"/>\n",
              "</g>\n",
              "\n",
              "<g class=\"displacy-arrow\">\n",
              "    <path class=\"displacy-arc\" id=\"arrow-4069e971275f4ce98809eac2247dad9f-0-4\" stroke-width=\"2px\" d=\"M770,177.0 C770,89.5 920.0,89.5 920.0,177.0\" fill=\"none\" stroke=\"currentColor\"/>\n",
              "    <text dy=\"1.25em\" style=\"font-size: 0.8em; letter-spacing: 1px\">\n",
              "        <textPath xlink:href=\"#arrow-4069e971275f4ce98809eac2247dad9f-0-4\" class=\"displacy-label\" startOffset=\"50%\" side=\"left\" fill=\"currentColor\" text-anchor=\"middle\">pcomp</textPath>\n",
              "    </text>\n",
              "    <path class=\"displacy-arrowhead\" d=\"M920.0,179.0 L928.0,167.0 912.0,167.0\" fill=\"currentColor\"/>\n",
              "</g>\n",
              "\n",
              "<g class=\"displacy-arrow\">\n",
              "    <path class=\"displacy-arc\" id=\"arrow-4069e971275f4ce98809eac2247dad9f-0-5\" stroke-width=\"2px\" d=\"M1120,177.0 C1120,89.5 1270.0,89.5 1270.0,177.0\" fill=\"none\" stroke=\"currentColor\"/>\n",
              "    <text dy=\"1.25em\" style=\"font-size: 0.8em; letter-spacing: 1px\">\n",
              "        <textPath xlink:href=\"#arrow-4069e971275f4ce98809eac2247dad9f-0-5\" class=\"displacy-label\" startOffset=\"50%\" side=\"left\" fill=\"currentColor\" text-anchor=\"middle\">compound</textPath>\n",
              "    </text>\n",
              "    <path class=\"displacy-arrowhead\" d=\"M1120,179.0 L1112,167.0 1128,167.0\" fill=\"currentColor\"/>\n",
              "</g>\n",
              "\n",
              "<g class=\"displacy-arrow\">\n",
              "    <path class=\"displacy-arc\" id=\"arrow-4069e971275f4ce98809eac2247dad9f-0-6\" stroke-width=\"2px\" d=\"M945,177.0 C945,2.0 1275.0,2.0 1275.0,177.0\" fill=\"none\" stroke=\"currentColor\"/>\n",
              "    <text dy=\"1.25em\" style=\"font-size: 0.8em; letter-spacing: 1px\">\n",
              "        <textPath xlink:href=\"#arrow-4069e971275f4ce98809eac2247dad9f-0-6\" class=\"displacy-label\" startOffset=\"50%\" side=\"left\" fill=\"currentColor\" text-anchor=\"middle\">dobj</textPath>\n",
              "    </text>\n",
              "    <path class=\"displacy-arrowhead\" d=\"M1275.0,179.0 L1283.0,167.0 1267.0,167.0\" fill=\"currentColor\"/>\n",
              "</g>\n",
              "\n",
              "<g class=\"displacy-arrow\">\n",
              "    <path class=\"displacy-arc\" id=\"arrow-4069e971275f4ce98809eac2247dad9f-0-7\" stroke-width=\"2px\" d=\"M1295,177.0 C1295,89.5 1445.0,89.5 1445.0,177.0\" fill=\"none\" stroke=\"currentColor\"/>\n",
              "    <text dy=\"1.25em\" style=\"font-size: 0.8em; letter-spacing: 1px\">\n",
              "        <textPath xlink:href=\"#arrow-4069e971275f4ce98809eac2247dad9f-0-7\" class=\"displacy-label\" startOffset=\"50%\" side=\"left\" fill=\"currentColor\" text-anchor=\"middle\">prep</textPath>\n",
              "    </text>\n",
              "    <path class=\"displacy-arrowhead\" d=\"M1445.0,179.0 L1453.0,167.0 1437.0,167.0\" fill=\"currentColor\"/>\n",
              "</g>\n",
              "\n",
              "<g class=\"displacy-arrow\">\n",
              "    <path class=\"displacy-arc\" id=\"arrow-4069e971275f4ce98809eac2247dad9f-0-8\" stroke-width=\"2px\" d=\"M1470,177.0 C1470,89.5 1620.0,89.5 1620.0,177.0\" fill=\"none\" stroke=\"currentColor\"/>\n",
              "    <text dy=\"1.25em\" style=\"font-size: 0.8em; letter-spacing: 1px\">\n",
              "        <textPath xlink:href=\"#arrow-4069e971275f4ce98809eac2247dad9f-0-8\" class=\"displacy-label\" startOffset=\"50%\" side=\"left\" fill=\"currentColor\" text-anchor=\"middle\">pobj</textPath>\n",
              "    </text>\n",
              "    <path class=\"displacy-arrowhead\" d=\"M1620.0,179.0 L1628.0,167.0 1612.0,167.0\" fill=\"currentColor\"/>\n",
              "</g>\n",
              "</svg></span>"
            ],
            "text/plain": [
              "<IPython.core.display.HTML object>"
            ]
          },
          "metadata": {}
        }
      ]
    },
    {
      "cell_type": "markdown",
      "metadata": {
        "id": "qG8xu5WBPCNC"
      },
      "source": [
        "Kita lihat dalam bentuk tabel"
      ]
    },
    {
      "cell_type": "code",
      "metadata": {
        "colab": {
          "base_uri": "https://localhost:8080/",
          "height": 359
        },
        "id": "cUVoevPzPC0J",
        "outputId": "ec546c9b-e7b9-4dda-ed66-8420f9f4e5bd"
      },
      "source": [
        "fields = [\"text\", \"lemma\", \"pos\", \"tag\", \"dep\", \"shape\", \"alpha\", \"stop\"]\n",
        "\n",
        "with open(\"dep.csv\", \"w\") as dep_csv:\n",
        "    # Masukkan field/kolom dari csv\n",
        "    dep_csv.write(\",\".join(fields) + \"\\n\")\n",
        "\n",
        "    # Print hasil analisis ke dalam file csv\n",
        "    for token in doc_dep:\n",
        "        print(token.text, token.lemma_, token.pos_, token.tag_, token.dep_, \n",
        "              token.shape_, token.is_alpha, token.is_stop, \n",
        "              file=dep_csv, sep=\",\", end=\"\\n\")\n",
        "\n",
        "# Buka file csv yang sudah dibuat\n",
        "dep_df = pd.read_csv(\"dep.csv\")\n",
        "dep_df"
      ],
      "execution_count": 41,
      "outputs": [
        {
          "output_type": "execute_result",
          "data": {
            "text/html": [
              "<div>\n",
              "<style scoped>\n",
              "    .dataframe tbody tr th:only-of-type {\n",
              "        vertical-align: middle;\n",
              "    }\n",
              "\n",
              "    .dataframe tbody tr th {\n",
              "        vertical-align: top;\n",
              "    }\n",
              "\n",
              "    .dataframe thead th {\n",
              "        text-align: right;\n",
              "    }\n",
              "</style>\n",
              "<table border=\"1\" class=\"dataframe\">\n",
              "  <thead>\n",
              "    <tr style=\"text-align: right;\">\n",
              "      <th></th>\n",
              "      <th>text</th>\n",
              "      <th>lemma</th>\n",
              "      <th>pos</th>\n",
              "      <th>tag</th>\n",
              "      <th>dep</th>\n",
              "      <th>shape</th>\n",
              "      <th>alpha</th>\n",
              "      <th>stop</th>\n",
              "    </tr>\n",
              "  </thead>\n",
              "  <tbody>\n",
              "    <tr>\n",
              "      <th>0</th>\n",
              "      <td>Databangalore</td>\n",
              "      <td>Databangalore</td>\n",
              "      <td>PROPN</td>\n",
              "      <td>NNP</td>\n",
              "      <td>compound</td>\n",
              "      <td>Xxxxx</td>\n",
              "      <td>True</td>\n",
              "      <td>False</td>\n",
              "    </tr>\n",
              "    <tr>\n",
              "      <th>1</th>\n",
              "      <td>Bootcamp</td>\n",
              "      <td>Bootcamp</td>\n",
              "      <td>PROPN</td>\n",
              "      <td>NNP</td>\n",
              "      <td>nsubj</td>\n",
              "      <td>Xxxxx</td>\n",
              "      <td>True</td>\n",
              "      <td>False</td>\n",
              "    </tr>\n",
              "    <tr>\n",
              "      <th>2</th>\n",
              "      <td>is</td>\n",
              "      <td>be</td>\n",
              "      <td>AUX</td>\n",
              "      <td>VBZ</td>\n",
              "      <td>ROOT</td>\n",
              "      <td>xx</td>\n",
              "      <td>True</td>\n",
              "      <td>True</td>\n",
              "    </tr>\n",
              "    <tr>\n",
              "      <th>3</th>\n",
              "      <td>good</td>\n",
              "      <td>good</td>\n",
              "      <td>ADJ</td>\n",
              "      <td>JJ</td>\n",
              "      <td>acomp</td>\n",
              "      <td>xxxx</td>\n",
              "      <td>True</td>\n",
              "      <td>False</td>\n",
              "    </tr>\n",
              "    <tr>\n",
              "      <th>4</th>\n",
              "      <td>for</td>\n",
              "      <td>for</td>\n",
              "      <td>ADP</td>\n",
              "      <td>IN</td>\n",
              "      <td>prep</td>\n",
              "      <td>xxx</td>\n",
              "      <td>True</td>\n",
              "      <td>True</td>\n",
              "    </tr>\n",
              "    <tr>\n",
              "      <th>5</th>\n",
              "      <td>learning</td>\n",
              "      <td>learn</td>\n",
              "      <td>VERB</td>\n",
              "      <td>VBG</td>\n",
              "      <td>pcomp</td>\n",
              "      <td>xxxx</td>\n",
              "      <td>True</td>\n",
              "      <td>False</td>\n",
              "    </tr>\n",
              "    <tr>\n",
              "      <th>6</th>\n",
              "      <td>data</td>\n",
              "      <td>data</td>\n",
              "      <td>NOUN</td>\n",
              "      <td>NN</td>\n",
              "      <td>compound</td>\n",
              "      <td>xxxx</td>\n",
              "      <td>True</td>\n",
              "      <td>False</td>\n",
              "    </tr>\n",
              "    <tr>\n",
              "      <th>7</th>\n",
              "      <td>science</td>\n",
              "      <td>science</td>\n",
              "      <td>NOUN</td>\n",
              "      <td>NN</td>\n",
              "      <td>dobj</td>\n",
              "      <td>xxxx</td>\n",
              "      <td>True</td>\n",
              "      <td>False</td>\n",
              "    </tr>\n",
              "    <tr>\n",
              "      <th>8</th>\n",
              "      <td>in</td>\n",
              "      <td>in</td>\n",
              "      <td>ADP</td>\n",
              "      <td>IN</td>\n",
              "      <td>prep</td>\n",
              "      <td>xx</td>\n",
              "      <td>True</td>\n",
              "      <td>True</td>\n",
              "    </tr>\n",
              "    <tr>\n",
              "      <th>9</th>\n",
              "      <td>Indonesia</td>\n",
              "      <td>Indonesia</td>\n",
              "      <td>PROPN</td>\n",
              "      <td>NNP</td>\n",
              "      <td>pobj</td>\n",
              "      <td>Xxxxx</td>\n",
              "      <td>True</td>\n",
              "      <td>False</td>\n",
              "    </tr>\n",
              "  </tbody>\n",
              "</table>\n",
              "</div>"
            ],
            "text/plain": [
              "            text          lemma    pos  tag       dep  shape  alpha   stop\n",
              "0  Databangalore  Databangalore  PROPN  NNP  compound  Xxxxx   True  False\n",
              "1       Bootcamp       Bootcamp  PROPN  NNP     nsubj  Xxxxx   True  False\n",
              "2             is             be    AUX  VBZ      ROOT     xx   True   True\n",
              "3           good           good    ADJ   JJ     acomp   xxxx   True  False\n",
              "4            for            for    ADP   IN      prep    xxx   True   True\n",
              "5       learning          learn   VERB  VBG     pcomp   xxxx   True  False\n",
              "6           data           data   NOUN   NN  compound   xxxx   True  False\n",
              "7        science        science   NOUN   NN      dobj   xxxx   True  False\n",
              "8             in             in    ADP   IN      prep     xx   True   True\n",
              "9      Indonesia      Indonesia  PROPN  NNP      pobj  Xxxxx   True  False"
            ]
          },
          "metadata": {},
          "execution_count": 41
        }
      ]
    },
    {
      "cell_type": "markdown",
      "metadata": {
        "id": "4li1MpEoPH8x"
      },
      "source": [
        "## Lemmatization\n",
        "Mengubah kata ke bentuk dasar"
      ]
    },
    {
      "cell_type": "code",
      "metadata": {
        "colab": {
          "base_uri": "https://localhost:8080/"
        },
        "id": "nlcjp1b8PHns",
        "outputId": "9fbe86e7-0f27-4bea-adb9-1e0ebdb3e39c"
      },
      "source": [
        "nlp = spacy.load(\"en_core_web_sm\")\n",
        "\n",
        "# Untuk mengecek tipe lemmatizer yang dipakai\n",
        "lemmatizer = nlp.get_pipe(\"lemmatizer\")\n",
        "print(lemmatizer.mode) # rule-based lemmatizer\n",
        "\n",
        "doc = nlp(\"I was reading the paper.\")\n",
        "print([token.lemma_ for token in doc])"
      ],
      "execution_count": 42,
      "outputs": [
        {
          "output_type": "stream",
          "name": "stdout",
          "text": [
            "rule\n",
            "['I', 'be', 'read', 'the', 'paper', '.']\n"
          ]
        }
      ]
    },
    {
      "cell_type": "markdown",
      "metadata": {
        "id": "idxQi5UpPN3X"
      },
      "source": [
        "## Named-Entity-Recognition\n",
        "NER merupakan task untuk mencari dan mengkategorikan entitas yang bernama dalam sebuah teks ke dalam berbagai kategori seperti nama orang, organisasi, nama lokasi, persentasi, tanggal dll."
      ]
    },
    {
      "cell_type": "code",
      "metadata": {
        "colab": {
          "base_uri": "https://localhost:8080/",
          "height": 89
        },
        "id": "2wFFybwQPEZz",
        "outputId": "c50d3b2d-b7d1-47e7-92ed-c0131facd596"
      },
      "source": [
        "nlp = spacy.load(\"en_core_web_sm\")\n",
        "doc_ent = nlp(\"President of Indonesia, Ir. Joko Widodo, will announce an important information in Istana Merdeka pada tahun jam 17:00\")\n",
        "\n",
        "displacy.render(doc, style=\"ent\", jupyter=True)"
      ],
      "execution_count": 43,
      "outputs": [
        {
          "output_type": "stream",
          "name": "stderr",
          "text": [
            "UserWarning: [W006] No entities to visualize found in Doc object. If this is surprising to you, make sure the Doc was processed using a model that supports named entity recognition, and check the `doc.ents` property manually if necessary. [__init__.py:191]\n"
          ]
        },
        {
          "output_type": "display_data",
          "data": {
            "text/html": [
              "<span class=\"tex2jax_ignore\"><div class=\"entities\" style=\"line-height: 2.5; direction: ltr\">I was reading the paper.</div></span>"
            ],
            "text/plain": [
              "<IPython.core.display.HTML object>"
            ]
          },
          "metadata": {}
        }
      ]
    },
    {
      "cell_type": "markdown",
      "metadata": {
        "id": "4mHBMIcyPS3p"
      },
      "source": [
        "Kita lihat dalam bentuk tabel"
      ]
    },
    {
      "cell_type": "code",
      "metadata": {
        "colab": {
          "base_uri": "https://localhost:8080/",
          "height": 173
        },
        "id": "hYYjOEYkPSjB",
        "outputId": "815ecead-7c11-4b41-fe31-3524f2badde4"
      },
      "source": [
        "fields = [\"text\", \"start\", \"end\", \"label\"]\n",
        "\n",
        "with open(\"ent.csv\", \"w\") as ent_csv:\n",
        "    # Masukkan field/kolom dari csv\n",
        "    ent_csv.write(\",\".join(fields) + \"\\n\")\n",
        "\n",
        "    # Print hasil analisis ke dalam file csv\n",
        "    for ent in doc_ent.ents:\n",
        "        print(ent.text, ent.start_char, ent.end_char, ent.label_,\n",
        "              file=ent_csv, sep=\",\", end=\"\\n\")\n",
        "\n",
        "# Buka file csv yang sudah dibuat\n",
        "ent_df = pd.read_csv(\"ent.csv\")\n",
        "ent_df"
      ],
      "execution_count": 44,
      "outputs": [
        {
          "output_type": "execute_result",
          "data": {
            "text/html": [
              "<div>\n",
              "<style scoped>\n",
              "    .dataframe tbody tr th:only-of-type {\n",
              "        vertical-align: middle;\n",
              "    }\n",
              "\n",
              "    .dataframe tbody tr th {\n",
              "        vertical-align: top;\n",
              "    }\n",
              "\n",
              "    .dataframe thead th {\n",
              "        text-align: right;\n",
              "    }\n",
              "</style>\n",
              "<table border=\"1\" class=\"dataframe\">\n",
              "  <thead>\n",
              "    <tr style=\"text-align: right;\">\n",
              "      <th></th>\n",
              "      <th>text</th>\n",
              "      <th>start</th>\n",
              "      <th>end</th>\n",
              "      <th>label</th>\n",
              "    </tr>\n",
              "  </thead>\n",
              "  <tbody>\n",
              "    <tr>\n",
              "      <th>0</th>\n",
              "      <td>Indonesia</td>\n",
              "      <td>13</td>\n",
              "      <td>22</td>\n",
              "      <td>GPE</td>\n",
              "    </tr>\n",
              "    <tr>\n",
              "      <th>1</th>\n",
              "      <td>Joko Widodo</td>\n",
              "      <td>28</td>\n",
              "      <td>39</td>\n",
              "      <td>PERSON</td>\n",
              "    </tr>\n",
              "    <tr>\n",
              "      <th>2</th>\n",
              "      <td>Istana Merdeka</td>\n",
              "      <td>83</td>\n",
              "      <td>97</td>\n",
              "      <td>GPE</td>\n",
              "    </tr>\n",
              "    <tr>\n",
              "      <th>3</th>\n",
              "      <td>17:00</td>\n",
              "      <td>113</td>\n",
              "      <td>118</td>\n",
              "      <td>TIME</td>\n",
              "    </tr>\n",
              "  </tbody>\n",
              "</table>\n",
              "</div>"
            ],
            "text/plain": [
              "             text  start  end   label\n",
              "0       Indonesia     13   22     GPE\n",
              "1     Joko Widodo     28   39  PERSON\n",
              "2  Istana Merdeka     83   97     GPE\n",
              "3           17:00    113  118    TIME"
            ]
          },
          "metadata": {},
          "execution_count": 44
        }
      ]
    },
    {
      "cell_type": "markdown",
      "metadata": {
        "id": "5Vxf97ILPYmN"
      },
      "source": [
        "## Word vectors Similarity\n",
        "spaCy sudah memiliki representasi vektor untuk setiap kata yang ada dalam korpusnya. Vektor tersebut bisa kita pakai untuk mencari kata dengan arti yang mirip.\n",
        "\n",
        "Mengetahui vektor dalam kata"
      ]
    },
    {
      "cell_type": "code",
      "metadata": {
        "colab": {
          "base_uri": "https://localhost:8080/"
        },
        "id": "iC3XLMu8PZ7E",
        "outputId": "9f61dc9d-8547-421c-842b-933f8f846bf8"
      },
      "source": [
        "nlp = spacy.load(\"en_core_web_md\")\n",
        "tokens = nlp(\"dog cat banana afskfsd\")\n",
        "\n",
        "for token in tokens:\n",
        "    print(token.text, token.has_vector, token.vector_norm, token.is_oov)"
      ],
      "execution_count": 45,
      "outputs": [
        {
          "output_type": "stream",
          "name": "stdout",
          "text": [
            "dog True 7.0336733 False\n",
            "cat True 6.6808186 False\n",
            "banana True 6.700014 False\n",
            "afskfsd False 0.0 True\n"
          ]
        }
      ]
    },
    {
      "cell_type": "markdown",
      "metadata": {
        "id": "X_eoLKrdPe91"
      },
      "source": [
        "Mencari tingkat kemiripan antar kata"
      ]
    },
    {
      "cell_type": "code",
      "metadata": {
        "colab": {
          "base_uri": "https://localhost:8080/"
        },
        "id": "UeasYtAbPg0G",
        "outputId": "637943c4-9324-4b47-9f54-be3e18c58e9a"
      },
      "source": [
        "print(\"{} <-> {} : {}\".format(\n",
        "    tokens[0], tokens[1], tokens[0].similarity(tokens[1])))"
      ],
      "execution_count": 46,
      "outputs": [
        {
          "output_type": "stream",
          "name": "stdout",
          "text": [
            "dog <-> cat : 0.8016854524612427\n"
          ]
        }
      ]
    },
    {
      "cell_type": "markdown",
      "metadata": {
        "id": "jOeKIif6Pjtu"
      },
      "source": [
        "Mencari tingkat kemiripan antar kalimat"
      ]
    },
    {
      "cell_type": "code",
      "metadata": {
        "colab": {
          "base_uri": "https://localhost:8080/"
        },
        "id": "mxqveM80Pmc0",
        "outputId": "b0014e8c-ae2c-4978-d382-dffb6a18d13f"
      },
      "source": [
        "doc1 = nlp(\"Data science is an interdisciplinary field that uses scientific methods,\" \n",
        "           \"processes, algorithms and systems to extract knowledge and insights from\"\n",
        "           \"structured and unstructured data, and apply knowledge and actionable\"\n",
        "           \"insights from data across a broad range of application domains. Data science\"\n",
        "           \"is related to data mining, machine learning and big data.\")\n",
        "\n",
        "doc2 = nlp(\"Data science is the field of study that combines domain expertise,\" \n",
        "            \"programming skills, and knowledge of mathematics and statistics to \"\n",
        "            \"extract meaningful insights from data.\")\n",
        "\n",
        "print(\"Similarity Rate: {}\".format(doc1.similarity(doc2)))"
      ],
      "execution_count": 47,
      "outputs": [
        {
          "output_type": "stream",
          "name": "stdout",
          "text": [
            "Similarity Rate: 0.9679645334572656\n"
          ]
        }
      ]
    }
  ]
}